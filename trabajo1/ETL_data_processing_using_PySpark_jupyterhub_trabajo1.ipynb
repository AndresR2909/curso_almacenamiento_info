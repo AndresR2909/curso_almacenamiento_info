{
 "cells": [
  {
   "cell_type": "markdown",
   "metadata": {
    "id": "9mIXj7uB7X-W"
   },
   "source": [
    "# Data Processing using Pyspark"
   ]
  },
  {
   "cell_type": "code",
   "execution_count": 1,
   "metadata": {},
   "outputs": [
    {
     "name": "stdout",
     "output_type": "stream",
     "text": [
      "Starting Spark application\n"
     ]
    },
    {
     "data": {
      "text/html": [
       "<table>\n",
       "<tr><th>ID</th><th>YARN Application ID</th><th>Kind</th><th>State</th><th>Spark UI</th><th>Driver log</th><th>User</th><th>Current session?</th></tr><tr><td>5</td><td>application_1709849208178_0006</td><td>pyspark</td><td>idle</td><td><a target=\"_blank\" href=\"http://ip-172-31-73-53.ec2.internal:20888/proxy/application_1709849208178_0006/\">Link</a></td><td><a target=\"_blank\" href=\"http://ip-172-31-67-156.ec2.internal:8042/node/containerlogs/container_1709849208178_0006_01_000001/livy\">Link</a></td><td>None</td><td>✔</td></tr></table>"
      ],
      "text/plain": [
       "<IPython.core.display.HTML object>"
      ]
     },
     "metadata": {},
     "output_type": "display_data"
    },
    {
     "data": {
      "application/vnd.jupyter.widget-view+json": {
       "model_id": "",
       "version_major": 2,
       "version_minor": 0
      },
      "text/plain": [
       "FloatProgress(value=0.0, bar_style='info', description='Progress:', layout=Layout(height='25px', width='50%'),…"
      ]
     },
     "metadata": {},
     "output_type": "display_data"
    },
    {
     "name": "stdout",
     "output_type": "stream",
     "text": [
      "SparkSession available as 'spark'.\n"
     ]
    },
    {
     "data": {
      "application/vnd.jupyter.widget-view+json": {
       "model_id": "",
       "version_major": 2,
       "version_minor": 0
      },
      "text/plain": [
       "FloatProgress(value=0.0, bar_style='info', description='Progress:', layout=Layout(height='25px', width='50%'),…"
      ]
     },
     "metadata": {},
     "output_type": "display_data"
    }
   ],
   "source": [
    "#%pip install pyarrow"
   ]
  },
  {
   "cell_type": "markdown",
   "metadata": {},
   "source": [
    "## Transient to raw"
   ]
  },
  {
   "cell_type": "markdown",
   "metadata": {},
   "source": [
    "### load source 1 climatedata_imf_org"
   ]
  },
  {
   "cell_type": "code",
   "execution_count": 3,
   "metadata": {
    "id": "DRphENFs-qOU"
   },
   "outputs": [
    {
     "data": {
      "application/vnd.jupyter.widget-view+json": {
       "model_id": "",
       "version_major": 2,
       "version_minor": 0
      },
      "text/plain": [
       "FloatProgress(value=0.0, bar_style='info', description='Progress:', layout=Layout(height='25px', width='50%'),…"
      ]
     },
     "metadata": {},
     "output_type": "display_data"
    }
   ],
   "source": [
    "# Load csv Dataset\n",
    "df_source_1=spark.read.csv('s3://trabajo1datalake/transient/climatedata_imf_org/level_sea/Change_in_Mean_Sea_Levels.csv',\n",
    "                  inferSchema=True,\n",
    "                  header=True)"
   ]
  },
  {
   "cell_type": "code",
   "execution_count": 4,
   "metadata": {},
   "outputs": [
    {
     "data": {
      "application/vnd.jupyter.widget-view+json": {
       "model_id": "",
       "version_major": 2,
       "version_minor": 0
      },
      "text/plain": [
       "FloatProgress(value=0.0, bar_style='info', description='Progress:', layout=Layout(height='25px', width='50%'),…"
      ]
     },
     "metadata": {},
     "output_type": "display_data"
    },
    {
     "name": "stdout",
     "output_type": "stream",
     "text": [
      "(35604, 13)"
     ]
    }
   ],
   "source": [
    "#shape of dataset\n",
    "print((df_source_1.count(),len(df_source_1.columns)))"
   ]
  },
  {
   "cell_type": "code",
   "execution_count": 5,
   "metadata": {},
   "outputs": [
    {
     "data": {
      "application/vnd.jupyter.widget-view+json": {
       "model_id": "",
       "version_major": 2,
       "version_minor": 0
      },
      "text/plain": [
       "FloatProgress(value=0.0, bar_style='info', description='Progress:', layout=Layout(height='25px', width='50%'),…"
      ]
     },
     "metadata": {},
     "output_type": "display_data"
    }
   ],
   "source": [
    "#load data into raw\n",
    "pathparquet_out='s3://trabajo1datalake/raw/climatedata_imf_org/level_sea'\n",
    "#save the data into parquet format\n",
    "df_source_1.write.mode('overwrite').format('parquet').save(pathparquet_out)"
   ]
  },
  {
   "cell_type": "code",
   "execution_count": 6,
   "metadata": {},
   "outputs": [
    {
     "data": {
      "application/vnd.jupyter.widget-view+json": {
       "model_id": "",
       "version_major": 2,
       "version_minor": 0
      },
      "text/plain": [
       "FloatProgress(value=0.0, bar_style='info', description='Progress:', layout=Layout(height='25px', width='50%'),…"
      ]
     },
     "metadata": {},
     "output_type": "display_data"
    }
   ],
   "source": [
    "# Load csv Dataset\n",
    "df_source_1_1=spark.read.csv('s3://trabajo1datalake/transient/climatedata_imf_org/dioxido_carbono/Atmospheric_CO2_Concentrations.csv',\n",
    "                  inferSchema=True,\n",
    "                  header=True)\n"
   ]
  },
  {
   "cell_type": "code",
   "execution_count": 7,
   "metadata": {},
   "outputs": [
    {
     "data": {
      "application/vnd.jupyter.widget-view+json": {
       "model_id": "",
       "version_major": 2,
       "version_minor": 0
      },
      "text/plain": [
       "FloatProgress(value=0.0, bar_style='info', description='Progress:', layout=Layout(height='25px', width='50%'),…"
      ]
     },
     "metadata": {},
     "output_type": "display_data"
    },
    {
     "name": "stdout",
     "output_type": "stream",
     "text": [
      "(1570, 12)"
     ]
    }
   ],
   "source": [
    "#shape of dataset\n",
    "print((df_source_1_1.count(),len(df_source_1_1.columns)))"
   ]
  },
  {
   "cell_type": "code",
   "execution_count": 8,
   "metadata": {},
   "outputs": [
    {
     "data": {
      "application/vnd.jupyter.widget-view+json": {
       "model_id": "",
       "version_major": 2,
       "version_minor": 0
      },
      "text/plain": [
       "FloatProgress(value=0.0, bar_style='info', description='Progress:', layout=Layout(height='25px', width='50%'),…"
      ]
     },
     "metadata": {},
     "output_type": "display_data"
    }
   ],
   "source": [
    "#load data into raw\n",
    "pathparquet_out='s3://trabajo1datalake/raw/climatedata_imf_org/dioxido_carbono'\n",
    "#save the data into parquet format\n",
    "df_source_1_1.write.mode('overwrite').format('parquet').save(pathparquet_out)"
   ]
  },
  {
   "cell_type": "markdown",
   "metadata": {},
   "source": [
    "### lod source 2 ourworldindata_org"
   ]
  },
  {
   "cell_type": "code",
   "execution_count": 9,
   "metadata": {},
   "outputs": [
    {
     "data": {
      "application/vnd.jupyter.widget-view+json": {
       "model_id": "",
       "version_major": 2,
       "version_minor": 0
      },
      "text/plain": [
       "FloatProgress(value=0.0, bar_style='info', description='Progress:', layout=Layout(height='25px', width='50%'),…"
      ]
     },
     "metadata": {},
     "output_type": "display_data"
    }
   ],
   "source": [
    "# desde S3\n",
    "df_source_2=spark.read.csv('s3://trabajo1datalake/transient/ourworldindata_org/owid-co2-data/owid-co2-data.csv',\n",
    "                  inferSchema=True,\n",
    "                  header=True)"
   ]
  },
  {
   "cell_type": "code",
   "execution_count": 10,
   "metadata": {},
   "outputs": [
    {
     "data": {
      "application/vnd.jupyter.widget-view+json": {
       "model_id": "",
       "version_major": 2,
       "version_minor": 0
      },
      "text/plain": [
       "FloatProgress(value=0.0, bar_style='info', description='Progress:', layout=Layout(height='25px', width='50%'),…"
      ]
     },
     "metadata": {},
     "output_type": "display_data"
    },
    {
     "name": "stdout",
     "output_type": "stream",
     "text": [
      "(48058, 13)"
     ]
    }
   ],
   "source": [
    "#shape of dataset\n",
    "print((df_source_2.count(),len(df_source_1.columns)))"
   ]
  },
  {
   "cell_type": "code",
   "execution_count": 11,
   "metadata": {},
   "outputs": [
    {
     "data": {
      "application/vnd.jupyter.widget-view+json": {
       "model_id": "",
       "version_major": 2,
       "version_minor": 0
      },
      "text/plain": [
       "FloatProgress(value=0.0, bar_style='info', description='Progress:', layout=Layout(height='25px', width='50%'),…"
      ]
     },
     "metadata": {},
     "output_type": "display_data"
    }
   ],
   "source": [
    "#load data into raw\n",
    "pathparquet_out_2='s3://trabajo1datalake/raw/ourworldindata_org/owid-co2-data'\n",
    "#save the data into parquet format\n",
    "df_source_2.write.mode('overwrite').format('parquet').save(pathparquet_out_2)"
   ]
  },
  {
   "cell_type": "markdown",
   "metadata": {},
   "source": [
    "## Raw to trusted\n",
    "\n",
    "Limpiar los datos: \n",
    "* identificar , eliminar o completar nulos\n",
    "* eliminar duplicados\n",
    "* cambiar formatos de datos\n",
    "* corregir valores y/o strings"
   ]
  },
  {
   "cell_type": "markdown",
   "metadata": {},
   "source": [
    "### Clean data source 1"
   ]
  },
  {
   "cell_type": "code",
   "execution_count": 12,
   "metadata": {},
   "outputs": [
    {
     "data": {
      "application/vnd.jupyter.widget-view+json": {
       "model_id": "",
       "version_major": 2,
       "version_minor": 0
      },
      "text/plain": [
       "FloatProgress(value=0.0, bar_style='info', description='Progress:', layout=Layout(height='25px', width='50%'),…"
      ]
     },
     "metadata": {},
     "output_type": "display_data"
    }
   ],
   "source": [
    "from pyspark.sql.functions import regexp_replace, col\n",
    "from pyspark.sql.types import StringType,DoubleType,IntegerType\n",
    "from pyspark.sql.functions import isnan, when, count, col"
   ]
  },
  {
   "cell_type": "code",
   "execution_count": 13,
   "metadata": {},
   "outputs": [
    {
     "data": {
      "application/vnd.jupyter.widget-view+json": {
       "model_id": "",
       "version_major": 2,
       "version_minor": 0
      },
      "text/plain": [
       "FloatProgress(value=0.0, bar_style='info', description='Progress:', layout=Layout(height='25px', width='50%'),…"
      ]
     },
     "metadata": {},
     "output_type": "display_data"
    }
   ],
   "source": [
    "path_raw_source_1='s3://trabajo1datalake/raw/climatedata_imf_org/level_sea'\n",
    "# Load raw data\n",
    "df_raw_source_1=spark.read.parquet(path_raw_source_1,\n",
    "                  inferSchema=True,\n",
    "                  header=True)"
   ]
  },
  {
   "cell_type": "code",
   "execution_count": 14,
   "metadata": {},
   "outputs": [
    {
     "data": {
      "application/vnd.jupyter.widget-view+json": {
       "model_id": "",
       "version_major": 2,
       "version_minor": 0
      },
      "text/plain": [
       "FloatProgress(value=0.0, bar_style='info', description='Progress:', layout=Layout(height='25px', width='50%'),…"
      ]
     },
     "metadata": {},
     "output_type": "display_data"
    },
    {
     "name": "stdout",
     "output_type": "stream",
     "text": [
      "root\n",
      " |-- ObjectId: integer (nullable = true)\n",
      " |-- Country: string (nullable = true)\n",
      " |-- ISO2: string (nullable = true)\n",
      " |-- ISO3: string (nullable = true)\n",
      " |-- Indicator: string (nullable = true)\n",
      " |-- Unit: string (nullable = true)\n",
      " |-- Source: string (nullable = true)\n",
      " |-- CTS_Code: string (nullable = true)\n",
      " |-- CTS_Name: string (nullable = true)\n",
      " |-- CTS_Full_Descriptor: string (nullable = true)\n",
      " |-- Measure: string (nullable = true)\n",
      " |-- Date: string (nullable = true)\n",
      " |-- Value: double (nullable = true)"
     ]
    }
   ],
   "source": [
    "#printSchema\n",
    "df_raw_source_1.printSchema()"
   ]
  },
  {
   "cell_type": "code",
   "execution_count": 15,
   "metadata": {
    "colab": {
     "base_uri": "https://localhost:8080/"
    },
    "id": "bqxIMyPJ7X-d",
    "outputId": "f1c9f783-925b-437c-ce1a-6a53b8654e89"
   },
   "outputs": [
    {
     "data": {
      "application/vnd.jupyter.widget-view+json": {
       "model_id": "",
       "version_major": 2,
       "version_minor": 0
      },
      "text/plain": [
       "FloatProgress(value=0.0, bar_style='info', description='Progress:', layout=Layout(height='25px', width='50%'),…"
      ]
     },
     "metadata": {},
     "output_type": "display_data"
    },
    {
     "name": "stdout",
     "output_type": "stream",
     "text": [
      "['ObjectId', 'Country', 'ISO2', 'ISO3', 'Indicator', 'Unit', 'Source', 'CTS_Code', 'CTS_Name', 'CTS_Full_Descriptor', 'Measure', 'Date', 'Value']"
     ]
    }
   ],
   "source": [
    "#columns of dataframe\n",
    "df_raw_source_1.columns"
   ]
  },
  {
   "cell_type": "code",
   "execution_count": 16,
   "metadata": {
    "colab": {
     "base_uri": "https://localhost:8080/"
    },
    "id": "TnxtRTsc7X-e",
    "outputId": "d5ba3f50-969b-46da-8b7b-910f80bff2ec"
   },
   "outputs": [
    {
     "data": {
      "application/vnd.jupyter.widget-view+json": {
       "model_id": "",
       "version_major": 2,
       "version_minor": 0
      },
      "text/plain": [
       "FloatProgress(value=0.0, bar_style='info', description='Progress:', layout=Layout(height='25px', width='50%'),…"
      ]
     },
     "metadata": {},
     "output_type": "display_data"
    },
    {
     "name": "stdout",
     "output_type": "stream",
     "text": [
      "(35604, 13)"
     ]
    }
   ],
   "source": [
    "#shape of dataset\n",
    "print((df_raw_source_1.count(),len(df_raw_source_1.columns)))"
   ]
  },
  {
   "cell_type": "code",
   "execution_count": 17,
   "metadata": {},
   "outputs": [
    {
     "data": {
      "application/vnd.jupyter.widget-view+json": {
       "model_id": "",
       "version_major": 2,
       "version_minor": 0
      },
      "text/plain": [
       "FloatProgress(value=0.0, bar_style='info', description='Progress:', layout=Layout(height='25px', width='50%'),…"
      ]
     },
     "metadata": {},
     "output_type": "display_data"
    }
   ],
   "source": [
    "def identificar_nulos(df):\n",
    "    #identificar nulos\n",
    "    df.select([count(when(isnan(c) | col(c).isNull(), c)).alias(c) for c in df.columns]).show()"
   ]
  },
  {
   "cell_type": "code",
   "execution_count": 18,
   "metadata": {},
   "outputs": [
    {
     "data": {
      "application/vnd.jupyter.widget-view+json": {
       "model_id": "",
       "version_major": 2,
       "version_minor": 0
      },
      "text/plain": [
       "FloatProgress(value=0.0, bar_style='info', description='Progress:', layout=Layout(height='25px', width='50%'),…"
      ]
     },
     "metadata": {},
     "output_type": "display_data"
    }
   ],
   "source": [
    "def eliminar_rellenar_nulos(df,tarea='eliminar', dict_rellenar = {'columna': 0}): \n",
    "    # Eliminar filas con valores nulos\n",
    "    if tarea == 'eliminar':\n",
    "        df_clean = df.dropna()\n",
    "    elif tarea == 'completar':\n",
    "        # Rellenar valores nulos con un valor específico\n",
    "        df_clean = df.fillna(dict_rellenar) # dict_rellenar = {'columna': valor}\n",
    "    else:\n",
    "        df_clean = df\n",
    "        print(\"tarea no valida\")\n",
    "    \n",
    "    return df_clean\n",
    "\n",
    "def eliminar_duplicados(df):\n",
    "    # Eliminar duplicados\n",
    "    df_clean = df.dropDuplicates()\n",
    "    return df_clean\n",
    "\n",
    "def corregir_valores(columna,condicion,nuevo_valor):\n",
    "    df_clean = df.withColumn(f'{columna}', when(condicion, nuevo_valor).otherwise(df[f'{columna}']))\n",
    "    return df_clean"
   ]
  },
  {
   "cell_type": "code",
   "execution_count": 19,
   "metadata": {},
   "outputs": [
    {
     "data": {
      "application/vnd.jupyter.widget-view+json": {
       "model_id": "",
       "version_major": 2,
       "version_minor": 0
      },
      "text/plain": [
       "FloatProgress(value=0.0, bar_style='info', description='Progress:', layout=Layout(height='25px', width='50%'),…"
      ]
     },
     "metadata": {},
     "output_type": "display_data"
    },
    {
     "name": "stdout",
     "output_type": "stream",
     "text": [
      "+--------+-------+----+----+--------------------+-----------+--------------------+--------+--------------------+--------------------+--------------+-----------+------+\n",
      "|ObjectId|Country|ISO2|ISO3|           Indicator|       Unit|              Source|CTS_Code|            CTS_Name| CTS_Full_Descriptor|       Measure|       Date| Value|\n",
      "+--------+-------+----+----+--------------------+-----------+--------------------+--------+--------------------+--------------------+--------------+-----------+------+\n",
      "|       1|  World|null| WLD|Change in mean se...|Millimeters|National Oceanic ...|    ECCL|Change in Mean Se...|Environment, Clim...|   Andaman Sea|D12/17/1992|-10.34|\n",
      "|       2|  World|null| WLD|Change in mean se...|Millimeters|National Oceanic ...|    ECCL|Change in Mean Se...|Environment, Clim...|   Arabian Sea|D12/17/1992|-18.46|\n",
      "|       3|  World|null| WLD|Change in mean se...|Millimeters|National Oceanic ...|    ECCL|Change in Mean Se...|Environment, Clim...|Atlantic Ocean|D12/17/1992|-15.41|\n",
      "|       4|  World|null| WLD|Change in mean se...|Millimeters|National Oceanic ...|    ECCL|Change in Mean Se...|Environment, Clim...|    Baltic Sea|D12/17/1992|196.85|\n",
      "|       5|  World|null| WLD|Change in mean se...|Millimeters|National Oceanic ...|    ECCL|Change in Mean Se...|Environment, Clim...|    Bay Bengal|D12/17/1992|  3.27|\n",
      "+--------+-------+----+----+--------------------+-----------+--------------------+--------+--------------------+--------------------+--------------+-----------+------+\n",
      "only showing top 5 rows"
     ]
    }
   ],
   "source": [
    "#fisrt few rows of dataframe\n",
    "df_raw_source_1.show(5)"
   ]
  },
  {
   "cell_type": "code",
   "execution_count": 20,
   "metadata": {},
   "outputs": [
    {
     "data": {
      "application/vnd.jupyter.widget-view+json": {
       "model_id": "",
       "version_major": 2,
       "version_minor": 0
      },
      "text/plain": [
       "FloatProgress(value=0.0, bar_style='info', description='Progress:', layout=Layout(height='25px', width='50%'),…"
      ]
     },
     "metadata": {},
     "output_type": "display_data"
    },
    {
     "name": "stdout",
     "output_type": "stream",
     "text": [
      "35604\n",
      "35604"
     ]
    }
   ],
   "source": [
    "print(df_raw_source_1.count())\n",
    "# Eliminar duplicados\n",
    "df_trusted_source_1 = eliminar_duplicados(df_raw_source_1)\n",
    "print(df_trusted_source_1.count())"
   ]
  },
  {
   "cell_type": "code",
   "execution_count": 21,
   "metadata": {},
   "outputs": [
    {
     "data": {
      "application/vnd.jupyter.widget-view+json": {
       "model_id": "",
       "version_major": 2,
       "version_minor": 0
      },
      "text/plain": [
       "FloatProgress(value=0.0, bar_style='info', description='Progress:', layout=Layout(height='25px', width='50%'),…"
      ]
     },
     "metadata": {},
     "output_type": "display_data"
    },
    {
     "name": "stdout",
     "output_type": "stream",
     "text": [
      "+--------+-------+-----+----+---------+----+------+--------+--------+-------------------+-------+----+-----+\n",
      "|ObjectId|Country| ISO2|ISO3|Indicator|Unit|Source|CTS_Code|CTS_Name|CTS_Full_Descriptor|Measure|Date|Value|\n",
      "+--------+-------+-----+----+---------+----+------+--------+--------+-------------------+-------+----+-----+\n",
      "|       0|      0|35604|   0|        0|   0|     0|       0|       0|                  0|      0|   0|    0|\n",
      "+--------+-------+-----+----+---------+----+------+--------+--------+-------------------+-------+----+-----+"
     ]
    }
   ],
   "source": [
    "#identificar nulos\n",
    "identificar_nulos(df_trusted_source_1)"
   ]
  },
  {
   "cell_type": "code",
   "execution_count": 22,
   "metadata": {},
   "outputs": [
    {
     "data": {
      "application/vnd.jupyter.widget-view+json": {
       "model_id": "",
       "version_major": 2,
       "version_minor": 0
      },
      "text/plain": [
       "FloatProgress(value=0.0, bar_style='info', description='Progress:', layout=Layout(height='25px', width='50%'),…"
      ]
     },
     "metadata": {},
     "output_type": "display_data"
    },
    {
     "name": "stdout",
     "output_type": "stream",
     "text": [
      "+--------+-------+----+----+---------+----+------+--------+--------+-------------------+-------+----+-----+\n",
      "|ObjectId|Country|ISO2|ISO3|Indicator|Unit|Source|CTS_Code|CTS_Name|CTS_Full_Descriptor|Measure|Date|Value|\n",
      "+--------+-------+----+----+---------+----+------+--------+--------+-------------------+-------+----+-----+\n",
      "|       0|      0|   0|   0|        0|   0|     0|       0|       0|                  0|      0|   0|    0|\n",
      "+--------+-------+----+----+---------+----+------+--------+--------+-------------------+-------+----+-----+\n",
      "\n",
      "35604"
     ]
    }
   ],
   "source": [
    "# eliminar rellenar nulos\n",
    "df_trusted_source_1 = eliminar_rellenar_nulos(df_trusted_source_1,tarea='completar', dict_rellenar = {'ISO2': 'NA'})\n",
    "#identificar nulos\n",
    "identificar_nulos(df_trusted_source_1)\n",
    "print(df_trusted_source_1.count())"
   ]
  },
  {
   "cell_type": "code",
   "execution_count": 23,
   "metadata": {},
   "outputs": [
    {
     "data": {
      "application/vnd.jupyter.widget-view+json": {
       "model_id": "",
       "version_major": 2,
       "version_minor": 0
      },
      "text/plain": [
       "FloatProgress(value=0.0, bar_style='info', description='Progress:', layout=Layout(height='25px', width='50%'),…"
      ]
     },
     "metadata": {},
     "output_type": "display_data"
    }
   ],
   "source": [
    "# casting columnas de ObjectID y fecha\n",
    "from pyspark.sql.functions import col\n",
    "\n",
    "#pasar datos de enteros a string\n",
    "df_trusted_source_1 = df_trusted_source_1.withColumn('ObjectId', col('ObjectId').cast('string'))"
   ]
  },
  {
   "cell_type": "code",
   "execution_count": 24,
   "metadata": {},
   "outputs": [
    {
     "data": {
      "application/vnd.jupyter.widget-view+json": {
       "model_id": "",
       "version_major": 2,
       "version_minor": 0
      },
      "text/plain": [
       "FloatProgress(value=0.0, bar_style='info', description='Progress:', layout=Layout(height='25px', width='50%'),…"
      ]
     },
     "metadata": {},
     "output_type": "display_data"
    },
    {
     "name": "stdout",
     "output_type": "stream",
     "text": [
      "+--------+-------+----+----+--------------------+-----------+--------------------+--------+--------------------+--------------------+------------+-----------+-----+\n",
      "|ObjectId|Country|ISO2|ISO3|           Indicator|       Unit|              Source|CTS_Code|            CTS_Name| CTS_Full_Descriptor|     Measure|       Date|Value|\n",
      "+--------+-------+----+----+--------------------+-----------+--------------------+--------+--------------------+--------------------+------------+-----------+-----+\n",
      "|    1250|  World|  NA| WLD|Change in mean se...|Millimeters|National Oceanic ...|    ECCL|Change in Mean Se...|Environment, Clim...|Adriatic Sea|D05/27/1994|17.79|\n",
      "+--------+-------+----+----+--------------------+-----------+--------------------+--------+--------------------+--------------------+------------+-----------+-----+\n",
      "only showing top 1 row"
     ]
    }
   ],
   "source": [
    "df_trusted_source_1.show(1)"
   ]
  },
  {
   "cell_type": "code",
   "execution_count": 25,
   "metadata": {},
   "outputs": [
    {
     "data": {
      "application/vnd.jupyter.widget-view+json": {
       "model_id": "",
       "version_major": 2,
       "version_minor": 0
      },
      "text/plain": [
       "FloatProgress(value=0.0, bar_style='info', description='Progress:', layout=Layout(height='25px', width='50%'),…"
      ]
     },
     "metadata": {},
     "output_type": "display_data"
    }
   ],
   "source": [
    "from pyspark.sql.functions import to_date\n",
    "#pasar datos de string a fecha\n",
    "df_trusted_source_1   = df_trusted_source_1.withColumn(\"Date\", regexp_replace(\"Date\", \"D\", \"\")).withColumn(\"Date\", to_date(\"Date\", \"MM/dd/yyyy\"))\n"
   ]
  },
  {
   "cell_type": "code",
   "execution_count": 26,
   "metadata": {},
   "outputs": [
    {
     "data": {
      "application/vnd.jupyter.widget-view+json": {
       "model_id": "",
       "version_major": 2,
       "version_minor": 0
      },
      "text/plain": [
       "FloatProgress(value=0.0, bar_style='info', description='Progress:', layout=Layout(height='25px', width='50%'),…"
      ]
     },
     "metadata": {},
     "output_type": "display_data"
    },
    {
     "name": "stdout",
     "output_type": "stream",
     "text": [
      "root\n",
      " |-- ObjectId: string (nullable = true)\n",
      " |-- Country: string (nullable = true)\n",
      " |-- ISO2: string (nullable = false)\n",
      " |-- ISO3: string (nullable = true)\n",
      " |-- Indicator: string (nullable = true)\n",
      " |-- Unit: string (nullable = true)\n",
      " |-- Source: string (nullable = true)\n",
      " |-- CTS_Code: string (nullable = true)\n",
      " |-- CTS_Name: string (nullable = true)\n",
      " |-- CTS_Full_Descriptor: string (nullable = true)\n",
      " |-- Measure: string (nullable = true)\n",
      " |-- Date: date (nullable = true)\n",
      " |-- Value: double (nullable = true)"
     ]
    }
   ],
   "source": [
    "#printSchema\n",
    "df_trusted_source_1.printSchema()"
   ]
  },
  {
   "cell_type": "code",
   "execution_count": 27,
   "metadata": {},
   "outputs": [
    {
     "data": {
      "application/vnd.jupyter.widget-view+json": {
       "model_id": "",
       "version_major": 2,
       "version_minor": 0
      },
      "text/plain": [
       "FloatProgress(value=0.0, bar_style='info', description='Progress:', layout=Layout(height='25px', width='50%'),…"
      ]
     },
     "metadata": {},
     "output_type": "display_data"
    }
   ],
   "source": [
    "# Corregir valores incorrectos\n",
    "#corregir_valores(columna,condición,nuevo_valor)"
   ]
  },
  {
   "cell_type": "code",
   "execution_count": 28,
   "metadata": {},
   "outputs": [
    {
     "data": {
      "application/vnd.jupyter.widget-view+json": {
       "model_id": "",
       "version_major": 2,
       "version_minor": 0
      },
      "text/plain": [
       "FloatProgress(value=0.0, bar_style='info', description='Progress:', layout=Layout(height='25px', width='50%'),…"
      ]
     },
     "metadata": {},
     "output_type": "display_data"
    },
    {
     "name": "stdout",
     "output_type": "stream",
     "text": [
      "+--------+-------+----+----+--------------------+-----------+--------------------+--------+--------------------+--------------------+------------+----------+-----+\n",
      "|ObjectId|Country|ISO2|ISO3|           Indicator|       Unit|              Source|CTS_Code|            CTS_Name| CTS_Full_Descriptor|     Measure|      Date|Value|\n",
      "+--------+-------+----+----+--------------------+-----------+--------------------+--------+--------------------+--------------------+------------+----------+-----+\n",
      "|    1250|  World|  NA| WLD|Change in mean se...|Millimeters|National Oceanic ...|    ECCL|Change in Mean Se...|Environment, Clim...|Adriatic Sea|1994-05-27|17.79|\n",
      "+--------+-------+----+----+--------------------+-----------+--------------------+--------+--------------------+--------------------+------------+----------+-----+\n",
      "only showing top 1 row"
     ]
    }
   ],
   "source": [
    "df_trusted_source_1.show(1)"
   ]
  },
  {
   "cell_type": "code",
   "execution_count": 29,
   "metadata": {},
   "outputs": [
    {
     "data": {
      "application/vnd.jupyter.widget-view+json": {
       "model_id": "",
       "version_major": 2,
       "version_minor": 0
      },
      "text/plain": [
       "FloatProgress(value=0.0, bar_style='info', description='Progress:', layout=Layout(height='25px', width='50%'),…"
      ]
     },
     "metadata": {},
     "output_type": "display_data"
    }
   ],
   "source": [
    "\n",
    "def corregir_nombres_columnas_string(df):\n",
    "    # Limpiar espacios y caracteres especiales en todas las columnas de texto\n",
    "    for column in df.columns:\n",
    "        if df.schema[column].dataType is StringType() :\n",
    "            print(column)\n",
    "            df = df.withColumn(column, regexp_replace(col(column), \"[^a-zA-Z0-9\\s]+\", \"\").alias(column)).withColumn(column, regexp_replace(col(column), \"\\s+\", \"_\").alias(column))\n",
    "    return df\n"
   ]
  },
  {
   "cell_type": "code",
   "execution_count": 30,
   "metadata": {},
   "outputs": [
    {
     "data": {
      "application/vnd.jupyter.widget-view+json": {
       "model_id": "",
       "version_major": 2,
       "version_minor": 0
      },
      "text/plain": [
       "FloatProgress(value=0.0, bar_style='info', description='Progress:', layout=Layout(height='25px', width='50%'),…"
      ]
     },
     "metadata": {},
     "output_type": "display_data"
    },
    {
     "name": "stdout",
     "output_type": "stream",
     "text": [
      "+--------------------+\n",
      "|           Indicator|\n",
      "+--------------------+\n",
      "|Change in mean se...|\n",
      "|Change in mean se...|\n",
      "|Change in mean se...|\n",
      "|Change in mean se...|\n",
      "|Change in mean se...|\n",
      "|Change in mean se...|\n",
      "|Change in mean se...|\n",
      "|Change in mean se...|\n",
      "|Change in mean se...|\n",
      "|Change in mean se...|\n",
      "+--------------------+\n",
      "only showing top 10 rows"
     ]
    }
   ],
   "source": [
    "# Seleccionar las columnas de texto del DataFrame\n",
    "text_columns = [column for column, data_type in df_trusted_source_1.dtypes if data_type == \"string\"]\n",
    "df_trusted_source_1.select('Indicator').show(10)"
   ]
  },
  {
   "cell_type": "code",
   "execution_count": 31,
   "metadata": {},
   "outputs": [
    {
     "data": {
      "application/vnd.jupyter.widget-view+json": {
       "model_id": "",
       "version_major": 2,
       "version_minor": 0
      },
      "text/plain": [
       "FloatProgress(value=0.0, bar_style='info', description='Progress:', layout=Layout(height='25px', width='50%'),…"
      ]
     },
     "metadata": {},
     "output_type": "display_data"
    },
    {
     "name": "stdout",
     "output_type": "stream",
     "text": [
      "ObjectId\n",
      "Country\n",
      "ISO2\n",
      "ISO3\n",
      "Indicator\n",
      "Unit\n",
      "Source\n",
      "CTS_Code\n",
      "CTS_Name\n",
      "CTS_Full_Descriptor\n",
      "Measure"
     ]
    }
   ],
   "source": [
    "#corregir textos de columnas string\n",
    "df_trusted_source_1 = corregir_nombres_columnas_string(df_trusted_source_1)"
   ]
  },
  {
   "cell_type": "code",
   "execution_count": 32,
   "metadata": {},
   "outputs": [
    {
     "data": {
      "application/vnd.jupyter.widget-view+json": {
       "model_id": "",
       "version_major": 2,
       "version_minor": 0
      },
      "text/plain": [
       "FloatProgress(value=0.0, bar_style='info', description='Progress:', layout=Layout(height='25px', width='50%'),…"
      ]
     },
     "metadata": {},
     "output_type": "display_data"
    },
    {
     "name": "stdout",
     "output_type": "stream",
     "text": [
      "+--------------------+\n",
      "|           Indicator|\n",
      "+--------------------+\n",
      "|Change_in_mean_se...|\n",
      "|Change_in_mean_se...|\n",
      "|Change_in_mean_se...|\n",
      "|Change_in_mean_se...|\n",
      "|Change_in_mean_se...|\n",
      "|Change_in_mean_se...|\n",
      "|Change_in_mean_se...|\n",
      "|Change_in_mean_se...|\n",
      "|Change_in_mean_se...|\n",
      "|Change_in_mean_se...|\n",
      "+--------------------+\n",
      "only showing top 10 rows"
     ]
    }
   ],
   "source": [
    "df_trusted_source_1.select('Indicator').show(10)"
   ]
  },
  {
   "cell_type": "code",
   "execution_count": 33,
   "metadata": {},
   "outputs": [
    {
     "data": {
      "application/vnd.jupyter.widget-view+json": {
       "model_id": "",
       "version_major": 2,
       "version_minor": 0
      },
      "text/plain": [
       "FloatProgress(value=0.0, bar_style='info', description='Progress:', layout=Layout(height='25px', width='50%'),…"
      ]
     },
     "metadata": {},
     "output_type": "display_data"
    }
   ],
   "source": [
    "#guardar dataset limpio\n",
    "path_trusted_source_1='s3://trabajo1datalake/trusted/climatedata_imf_org/level_sea'\n",
    "#save the data into parquet format\n",
    "df_trusted_source_1.write.mode('overwrite').format('parquet').save(path_trusted_source_1)"
   ]
  },
  {
   "cell_type": "markdown",
   "metadata": {},
   "source": [
    "### Clean data source 1.1"
   ]
  },
  {
   "cell_type": "code",
   "execution_count": 36,
   "metadata": {},
   "outputs": [
    {
     "data": {
      "application/vnd.jupyter.widget-view+json": {
       "model_id": "",
       "version_major": 2,
       "version_minor": 0
      },
      "text/plain": [
       "FloatProgress(value=0.0, bar_style='info', description='Progress:', layout=Layout(height='25px', width='50%'),…"
      ]
     },
     "metadata": {},
     "output_type": "display_data"
    }
   ],
   "source": [
    "path_raw_source_1_1='s3://trabajo1datalake/raw/climatedata_imf_org/dioxido_carbono'\n",
    "# Load raw data\n",
    "df_raw_source_1_1=spark.read.parquet(path_raw_source_1_1,\n",
    "                  inferSchema=True,\n",
    "                  header=True)"
   ]
  },
  {
   "cell_type": "code",
   "execution_count": 38,
   "metadata": {},
   "outputs": [
    {
     "data": {
      "application/vnd.jupyter.widget-view+json": {
       "model_id": "",
       "version_major": 2,
       "version_minor": 0
      },
      "text/plain": [
       "FloatProgress(value=0.0, bar_style='info', description='Progress:', layout=Layout(height='25px', width='50%'),…"
      ]
     },
     "metadata": {},
     "output_type": "display_data"
    },
    {
     "name": "stdout",
     "output_type": "stream",
     "text": [
      "root\n",
      " |-- ObjectId: integer (nullable = true)\n",
      " |-- Country: string (nullable = true)\n",
      " |-- ISO2: string (nullable = true)\n",
      " |-- ISO3: string (nullable = true)\n",
      " |-- Indicator: string (nullable = true)\n",
      " |-- Unit: string (nullable = true)\n",
      " |-- Source: string (nullable = true)\n",
      " |-- CTS_Code: string (nullable = true)\n",
      " |-- CTS_Name: string (nullable = true)\n",
      " |-- CTS_Full_Descriptor: string (nullable = true)\n",
      " |-- Date: string (nullable = true)\n",
      " |-- Value: double (nullable = true)"
     ]
    }
   ],
   "source": [
    "#printSchema\n",
    "df_raw_source_1_1.printSchema()"
   ]
  },
  {
   "cell_type": "code",
   "execution_count": 39,
   "metadata": {},
   "outputs": [
    {
     "data": {
      "application/vnd.jupyter.widget-view+json": {
       "model_id": "",
       "version_major": 2,
       "version_minor": 0
      },
      "text/plain": [
       "FloatProgress(value=0.0, bar_style='info', description='Progress:', layout=Layout(height='25px', width='50%'),…"
      ]
     },
     "metadata": {},
     "output_type": "display_data"
    },
    {
     "name": "stdout",
     "output_type": "stream",
     "text": [
      "+--------+-------+----+----+--------------------+-----------------+--------------------+--------+--------------------+--------------------+-------+------+\n",
      "|ObjectId|Country|ISO2|ISO3|           Indicator|             Unit|              Source|CTS_Code|            CTS_Name| CTS_Full_Descriptor|   Date| Value|\n",
      "+--------+-------+----+----+--------------------+-----------------+--------------------+--------+--------------------+--------------------+-------+------+\n",
      "|       1|  World|null| WLD|Monthly Atmospher...|Parts Per Million|Dr. Pieter Tans, ...|    ECCA|Atmospheric Carbo...|Environment, Clim...|1958M03| 315.7|\n",
      "|       2|  World|null| WLD|Monthly Atmospher...|Parts Per Million|Dr. Pieter Tans, ...|    ECCA|Atmospheric Carbo...|Environment, Clim...|1958M04|317.45|\n",
      "|       3|  World|null| WLD|Monthly Atmospher...|Parts Per Million|Dr. Pieter Tans, ...|    ECCA|Atmospheric Carbo...|Environment, Clim...|1958M05|317.51|\n",
      "|       4|  World|null| WLD|Monthly Atmospher...|Parts Per Million|Dr. Pieter Tans, ...|    ECCA|Atmospheric Carbo...|Environment, Clim...|1958M06|317.24|\n",
      "|       5|  World|null| WLD|Monthly Atmospher...|Parts Per Million|Dr. Pieter Tans, ...|    ECCA|Atmospheric Carbo...|Environment, Clim...|1958M07|315.86|\n",
      "+--------+-------+----+----+--------------------+-----------------+--------------------+--------+--------------------+--------------------+-------+------+\n",
      "only showing top 5 rows"
     ]
    }
   ],
   "source": [
    "#fisrt few rows of dataframe\n",
    "df_raw_source_1_1.show(5)"
   ]
  },
  {
   "cell_type": "code",
   "execution_count": 54,
   "metadata": {},
   "outputs": [
    {
     "data": {
      "application/vnd.jupyter.widget-view+json": {
       "model_id": "",
       "version_major": 2,
       "version_minor": 0
      },
      "text/plain": [
       "FloatProgress(value=0.0, bar_style='info', description='Progress:', layout=Layout(height='25px', width='50%'),…"
      ]
     },
     "metadata": {},
     "output_type": "display_data"
    }
   ],
   "source": [
    "from pyspark.sql.functions import udf\n",
    "\n",
    "# Definir una función UDF para convertir la cadena a formato de fecha\n",
    "def convert_to_date(date_string):\n",
    "    year = date_string[:4]\n",
    "    month = date_string[5:]\n",
    "    formatted_date = f\"{year}/{month}\"\n",
    "    return formatted_date"
   ]
  },
  {
   "cell_type": "code",
   "execution_count": 55,
   "metadata": {},
   "outputs": [
    {
     "data": {
      "application/vnd.jupyter.widget-view+json": {
       "model_id": "",
       "version_major": 2,
       "version_minor": 0
      },
      "text/plain": [
       "FloatProgress(value=0.0, bar_style='info', description='Progress:', layout=Layout(height='25px', width='50%'),…"
      ]
     },
     "metadata": {},
     "output_type": "display_data"
    },
    {
     "name": "stdout",
     "output_type": "stream",
     "text": [
      "1570\n",
      "1570\n",
      "+--------+-------+----+----+---------+----+------+--------+--------+-------------------+----+-----+\n",
      "|ObjectId|Country|ISO2|ISO3|Indicator|Unit|Source|CTS_Code|CTS_Name|CTS_Full_Descriptor|Date|Value|\n",
      "+--------+-------+----+----+---------+----+------+--------+--------+-------------------+----+-----+\n",
      "|       0|      0|   0|   0|        0|   0|     0|       0|       0|                  0|   0|    0|\n",
      "+--------+-------+----+----+---------+----+------+--------+--------+-------------------+----+-----+\n",
      "\n",
      "1570\n",
      "ObjectId\n",
      "Country\n",
      "ISO2\n",
      "ISO3\n",
      "Indicator\n",
      "Unit\n",
      "Source\n",
      "CTS_Code\n",
      "CTS_Name\n",
      "CTS_Full_Descriptor"
     ]
    }
   ],
   "source": [
    "print(df_raw_source_1_1.count())\n",
    "# Eliminar duplicados\n",
    "df_trusted_source_1_1 = eliminar_duplicados(df_raw_source_1_1)\n",
    "print(df_trusted_source_1_1.count())\n",
    "\n",
    "# eliminar rellenar nulos\n",
    "df_trusted_source_1_1 = eliminar_rellenar_nulos(df_trusted_source_1_1,tarea='completar', dict_rellenar = {'ISO2': 'NA'})\n",
    "#identificar nulos\n",
    "identificar_nulos(df_trusted_source_1_1)\n",
    "print(df_trusted_source_1_1.count())\n",
    "\n",
    "#pasar datos de enteros a string\n",
    "df_trusted_source_1_1 = df_trusted_source_1_1.withColumn('ObjectId', col('ObjectId').cast('string'))\n",
    "\n",
    "from pyspark.sql.functions import to_date\n",
    "#pasar datos de string a fecha\n",
    "\n",
    "convert_to_date_udf = udf(convert_to_date, StringType())\n",
    "\n",
    "# Aplicar la función definida a la columna y convertirla al tipo de datos DateType\n",
    "df_trusted_source_1_1 = df_trusted_source_1_1.withColumn(\"Date\", to_date(convert_to_date_udf(col(\"Date\")), \"yyyy/MM\"))\n",
    "\n",
    "\n",
    "#corregir textos de columnas string\n",
    "df_trusted_source_1_1 = corregir_nombres_columnas_string(df_trusted_source_1_1)\n"
   ]
  },
  {
   "cell_type": "code",
   "execution_count": 57,
   "metadata": {},
   "outputs": [
    {
     "data": {
      "application/vnd.jupyter.widget-view+json": {
       "model_id": "",
       "version_major": 2,
       "version_minor": 0
      },
      "text/plain": [
       "FloatProgress(value=0.0, bar_style='info', description='Progress:', layout=Layout(height='25px', width='50%'),…"
      ]
     },
     "metadata": {},
     "output_type": "display_data"
    },
    {
     "name": "stdout",
     "output_type": "stream",
     "text": [
      "root\n",
      " |-- ObjectId: string (nullable = true)\n",
      " |-- Country: string (nullable = true)\n",
      " |-- ISO2: string (nullable = false)\n",
      " |-- ISO3: string (nullable = true)\n",
      " |-- Indicator: string (nullable = true)\n",
      " |-- Unit: string (nullable = true)\n",
      " |-- Source: string (nullable = true)\n",
      " |-- CTS_Code: string (nullable = true)\n",
      " |-- CTS_Name: string (nullable = true)\n",
      " |-- CTS_Full_Descriptor: string (nullable = true)\n",
      " |-- Date: date (nullable = true)\n",
      " |-- Value: double (nullable = true)"
     ]
    }
   ],
   "source": [
    "#printSchema\n",
    "df_trusted_source_1_1.printSchema()"
   ]
  },
  {
   "cell_type": "code",
   "execution_count": 58,
   "metadata": {},
   "outputs": [
    {
     "data": {
      "application/vnd.jupyter.widget-view+json": {
       "model_id": "",
       "version_major": 2,
       "version_minor": 0
      },
      "text/plain": [
       "FloatProgress(value=0.0, bar_style='info', description='Progress:', layout=Layout(height='25px', width='50%'),…"
      ]
     },
     "metadata": {},
     "output_type": "display_data"
    },
    {
     "name": "stdout",
     "output_type": "stream",
     "text": [
      "+--------+-------+----+----+--------------------+-------+--------------------+--------+--------------------+--------------------+----------+-----+\n",
      "|ObjectId|Country|ISO2|ISO3|           Indicator|   Unit|              Source|CTS_Code|            CTS_Name| CTS_Full_Descriptor|      Date|Value|\n",
      "+--------+-------+----+----+--------------------+-------+--------------------+--------+--------------------+--------------------+----------+-----+\n",
      "|     268|  World|  NA| WLD|Monthly_Atmospher...|Percent|Dr_Pieter_Tans_Na...|    ECCA|Atmospheric_Carbo...|Environment_Clima...|1969-10-01| 0.48|\n",
      "+--------+-------+----+----+--------------------+-------+--------------------+--------+--------------------+--------------------+----------+-----+\n",
      "only showing top 1 row"
     ]
    }
   ],
   "source": [
    "df_trusted_source_1_1.show(1)"
   ]
  },
  {
   "cell_type": "code",
   "execution_count": 59,
   "metadata": {},
   "outputs": [
    {
     "data": {
      "application/vnd.jupyter.widget-view+json": {
       "model_id": "",
       "version_major": 2,
       "version_minor": 0
      },
      "text/plain": [
       "FloatProgress(value=0.0, bar_style='info', description='Progress:', layout=Layout(height='25px', width='50%'),…"
      ]
     },
     "metadata": {},
     "output_type": "display_data"
    }
   ],
   "source": [
    "#guardar dataset limpio\n",
    "path_trusted_source_1_1='s3://trabajo1datalake/trusted/climatedata_imf_org/dioxido_carbono'\n",
    "#save the data into parquet format\n",
    "df_trusted_source_1_1.write.mode('overwrite').format('parquet').save(path_trusted_source_1_1)"
   ]
  },
  {
   "cell_type": "markdown",
   "metadata": {},
   "source": [
    "### Clean data source 2"
   ]
  },
  {
   "cell_type": "code",
   "execution_count": 60,
   "metadata": {},
   "outputs": [
    {
     "data": {
      "application/vnd.jupyter.widget-view+json": {
       "model_id": "",
       "version_major": 2,
       "version_minor": 0
      },
      "text/plain": [
       "FloatProgress(value=0.0, bar_style='info', description='Progress:', layout=Layout(height='25px', width='50%'),…"
      ]
     },
     "metadata": {},
     "output_type": "display_data"
    }
   ],
   "source": [
    "path_raw_source_2='s3://trabajo1datalake/raw/ourworldindata_org/owid-co2-data'\n",
    "# Load raw data\n",
    "df_raw_source_2=spark.read.parquet(path_raw_source_2,\n",
    "                  inferSchema=True,\n",
    "                  header=True)\n"
   ]
  },
  {
   "cell_type": "code",
   "execution_count": 61,
   "metadata": {},
   "outputs": [
    {
     "data": {
      "application/vnd.jupyter.widget-view+json": {
       "model_id": "",
       "version_major": 2,
       "version_minor": 0
      },
      "text/plain": [
       "FloatProgress(value=0.0, bar_style='info', description='Progress:', layout=Layout(height='25px', width='50%'),…"
      ]
     },
     "metadata": {},
     "output_type": "display_data"
    },
    {
     "name": "stdout",
     "output_type": "stream",
     "text": [
      "root\n",
      " |-- country: string (nullable = true)\n",
      " |-- year: integer (nullable = true)\n",
      " |-- iso_code: string (nullable = true)\n",
      " |-- population: long (nullable = true)\n",
      " |-- gdp: double (nullable = true)\n",
      " |-- cement_co2: double (nullable = true)\n",
      " |-- cement_co2_per_capita: double (nullable = true)\n",
      " |-- co2: double (nullable = true)\n",
      " |-- co2_growth_abs: double (nullable = true)\n",
      " |-- co2_growth_prct: double (nullable = true)\n",
      " |-- co2_including_luc: double (nullable = true)\n",
      " |-- co2_including_luc_growth_abs: double (nullable = true)\n",
      " |-- co2_including_luc_growth_prct: double (nullable = true)\n",
      " |-- co2_including_luc_per_capita: double (nullable = true)\n",
      " |-- co2_including_luc_per_gdp: double (nullable = true)\n",
      " |-- co2_including_luc_per_unit_energy: double (nullable = true)\n",
      " |-- co2_per_capita: double (nullable = true)\n",
      " |-- co2_per_gdp: double (nullable = true)\n",
      " |-- co2_per_unit_energy: double (nullable = true)\n",
      " |-- coal_co2: double (nullable = true)\n",
      " |-- coal_co2_per_capita: double (nullable = true)\n",
      " |-- consumption_co2: double (nullable = true)\n",
      " |-- consumption_co2_per_capita: double (nullable = true)\n",
      " |-- consumption_co2_per_gdp: double (nullable = true)\n",
      " |-- cumulative_cement_co2: double (nullable = true)\n",
      " |-- cumulative_co2: double (nullable = true)\n",
      " |-- cumulative_co2_including_luc: double (nullable = true)\n",
      " |-- cumulative_coal_co2: double (nullable = true)\n",
      " |-- cumulative_flaring_co2: double (nullable = true)\n",
      " |-- cumulative_gas_co2: double (nullable = true)\n",
      " |-- cumulative_luc_co2: double (nullable = true)\n",
      " |-- cumulative_oil_co2: double (nullable = true)\n",
      " |-- cumulative_other_co2: double (nullable = true)\n",
      " |-- energy_per_capita: double (nullable = true)\n",
      " |-- energy_per_gdp: double (nullable = true)\n",
      " |-- flaring_co2: double (nullable = true)\n",
      " |-- flaring_co2_per_capita: double (nullable = true)\n",
      " |-- gas_co2: double (nullable = true)\n",
      " |-- gas_co2_per_capita: double (nullable = true)\n",
      " |-- ghg_excluding_lucf_per_capita: double (nullable = true)\n",
      " |-- ghg_per_capita: double (nullable = true)\n",
      " |-- land_use_change_co2: double (nullable = true)\n",
      " |-- land_use_change_co2_per_capita: double (nullable = true)\n",
      " |-- methane: double (nullable = true)\n",
      " |-- methane_per_capita: double (nullable = true)\n",
      " |-- nitrous_oxide: double (nullable = true)\n",
      " |-- nitrous_oxide_per_capita: double (nullable = true)\n",
      " |-- oil_co2: double (nullable = true)\n",
      " |-- oil_co2_per_capita: double (nullable = true)\n",
      " |-- other_co2_per_capita: double (nullable = true)\n",
      " |-- other_industry_co2: double (nullable = true)\n",
      " |-- primary_energy_consumption: double (nullable = true)\n",
      " |-- share_global_cement_co2: double (nullable = true)\n",
      " |-- share_global_co2: double (nullable = true)\n",
      " |-- share_global_co2_including_luc: double (nullable = true)\n",
      " |-- share_global_coal_co2: double (nullable = true)\n",
      " |-- share_global_cumulative_cement_co2: double (nullable = true)\n",
      " |-- share_global_cumulative_co2: double (nullable = true)\n",
      " |-- share_global_cumulative_co2_including_luc: double (nullable = true)\n",
      " |-- share_global_cumulative_coal_co2: double (nullable = true)\n",
      " |-- share_global_cumulative_flaring_co2: double (nullable = true)\n",
      " |-- share_global_cumulative_gas_co2: double (nullable = true)\n",
      " |-- share_global_cumulative_luc_co2: double (nullable = true)\n",
      " |-- share_global_cumulative_oil_co2: double (nullable = true)\n",
      " |-- share_global_cumulative_other_co2: double (nullable = true)\n",
      " |-- share_global_flaring_co2: double (nullable = true)\n",
      " |-- share_global_gas_co2: double (nullable = true)\n",
      " |-- share_global_luc_co2: double (nullable = true)\n",
      " |-- share_global_oil_co2: double (nullable = true)\n",
      " |-- share_global_other_co2: double (nullable = true)\n",
      " |-- share_of_temperature_change_from_ghg: double (nullable = true)\n",
      " |-- temperature_change_from_ch4: double (nullable = true)\n",
      " |-- temperature_change_from_co2: double (nullable = true)\n",
      " |-- temperature_change_from_ghg: double (nullable = true)\n",
      " |-- temperature_change_from_n2o: double (nullable = true)\n",
      " |-- total_ghg: double (nullable = true)\n",
      " |-- total_ghg_excluding_lucf: double (nullable = true)\n",
      " |-- trade_co2: double (nullable = true)\n",
      " |-- trade_co2_share: double (nullable = true)"
     ]
    }
   ],
   "source": [
    "#printSchema\n",
    "df_raw_source_2.printSchema()"
   ]
  },
  {
   "cell_type": "code",
   "execution_count": 62,
   "metadata": {},
   "outputs": [
    {
     "data": {
      "application/vnd.jupyter.widget-view+json": {
       "model_id": "",
       "version_major": 2,
       "version_minor": 0
      },
      "text/plain": [
       "FloatProgress(value=0.0, bar_style='info', description='Progress:', layout=Layout(height='25px', width='50%'),…"
      ]
     },
     "metadata": {},
     "output_type": "display_data"
    },
    {
     "name": "stdout",
     "output_type": "stream",
     "text": [
      "(48058, 79)"
     ]
    }
   ],
   "source": [
    "#shape of dataset\n",
    "print((df_raw_source_2.count(),len(df_raw_source_2.columns)))"
   ]
  },
  {
   "cell_type": "code",
   "execution_count": 63,
   "metadata": {},
   "outputs": [
    {
     "data": {
      "application/vnd.jupyter.widget-view+json": {
       "model_id": "",
       "version_major": 2,
       "version_minor": 0
      },
      "text/plain": [
       "FloatProgress(value=0.0, bar_style='info', description='Progress:', layout=Layout(height='25px', width='50%'),…"
      ]
     },
     "metadata": {},
     "output_type": "display_data"
    },
    {
     "name": "stdout",
     "output_type": "stream",
     "text": [
      "+-----------+----+--------+----------+----+----------+---------------------+----+--------------+---------------+-----------------+----------------------------+-----------------------------+----------------------------+-------------------------+---------------------------------+--------------+-----------+-------------------+--------+-------------------+---------------+--------------------------+-----------------------+---------------------+--------------+----------------------------+-------------------+----------------------+------------------+------------------+------------------+--------------------+-----------------+--------------+-----------+----------------------+-------+------------------+-----------------------------+--------------+-------------------+------------------------------+-------+------------------+-------------+------------------------+-------+------------------+--------------------+------------------+--------------------------+-----------------------+----------------+------------------------------+---------------------+----------------------------------+---------------------------+-----------------------------------------+--------------------------------+-----------------------------------+-------------------------------+-------------------------------+-------------------------------+---------------------------------+------------------------+--------------------+--------------------+--------------------+----------------------+------------------------------------+---------------------------+---------------------------+---------------------------+---------------------------+---------+------------------------+---------+---------------+\n",
      "|    country|year|iso_code|population| gdp|cement_co2|cement_co2_per_capita| co2|co2_growth_abs|co2_growth_prct|co2_including_luc|co2_including_luc_growth_abs|co2_including_luc_growth_prct|co2_including_luc_per_capita|co2_including_luc_per_gdp|co2_including_luc_per_unit_energy|co2_per_capita|co2_per_gdp|co2_per_unit_energy|coal_co2|coal_co2_per_capita|consumption_co2|consumption_co2_per_capita|consumption_co2_per_gdp|cumulative_cement_co2|cumulative_co2|cumulative_co2_including_luc|cumulative_coal_co2|cumulative_flaring_co2|cumulative_gas_co2|cumulative_luc_co2|cumulative_oil_co2|cumulative_other_co2|energy_per_capita|energy_per_gdp|flaring_co2|flaring_co2_per_capita|gas_co2|gas_co2_per_capita|ghg_excluding_lucf_per_capita|ghg_per_capita|land_use_change_co2|land_use_change_co2_per_capita|methane|methane_per_capita|nitrous_oxide|nitrous_oxide_per_capita|oil_co2|oil_co2_per_capita|other_co2_per_capita|other_industry_co2|primary_energy_consumption|share_global_cement_co2|share_global_co2|share_global_co2_including_luc|share_global_coal_co2|share_global_cumulative_cement_co2|share_global_cumulative_co2|share_global_cumulative_co2_including_luc|share_global_cumulative_coal_co2|share_global_cumulative_flaring_co2|share_global_cumulative_gas_co2|share_global_cumulative_luc_co2|share_global_cumulative_oil_co2|share_global_cumulative_other_co2|share_global_flaring_co2|share_global_gas_co2|share_global_luc_co2|share_global_oil_co2|share_global_other_co2|share_of_temperature_change_from_ghg|temperature_change_from_ch4|temperature_change_from_co2|temperature_change_from_ghg|temperature_change_from_n2o|total_ghg|total_ghg_excluding_lucf|trade_co2|trade_co2_share|\n",
      "+-----------+----+--------+----------+----+----------+---------------------+----+--------------+---------------+-----------------+----------------------------+-----------------------------+----------------------------+-------------------------+---------------------------------+--------------+-----------+-------------------+--------+-------------------+---------------+--------------------------+-----------------------+---------------------+--------------+----------------------------+-------------------+----------------------+------------------+------------------+------------------+--------------------+-----------------+--------------+-----------+----------------------+-------+------------------+-----------------------------+--------------+-------------------+------------------------------+-------+------------------+-------------+------------------------+-------+------------------+--------------------+------------------+--------------------------+-----------------------+----------------+------------------------------+---------------------+----------------------------------+---------------------------+-----------------------------------------+--------------------------------+-----------------------------------+-------------------------------+-------------------------------+-------------------------------+---------------------------------+------------------------+--------------------+--------------------+--------------------+----------------------+------------------------------------+---------------------------+---------------------------+---------------------------+---------------------------+---------+------------------------+---------+---------------+\n",
      "|Afghanistan|1850|     AFG|   3752993|null|      null|                 null|null|          null|           null|             null|                        null|                         null|                        null|                     null|                             null|          null|       null|               null|    null|               null|           null|                      null|                   null|                 null|          null|                        null|               null|                  null|              null|              2.98|              null|                null|             null|          null|       null|                  null|   null|              null|                         null|          null|               2.98|                         0.794|   null|              null|         null|                    null|   null|              null|                null|              null|                      null|                   null|            null|                          null|                 null|                              null|                       null|                                     null|                            null|                               null|                           null|                          0.113|                           null|                             null|                    null|                null|               0.113|                null|                  null|                                null|                       null|                       null|                       null|                       null|     null|                    null|     null|           null|\n",
      "|Afghanistan|1851|     AFG|   3767956|null|      null|                 null|null|          null|           null|             null|                        null|                         null|                        null|                     null|                             null|          null|       null|               null|    null|               null|           null|                      null|                   null|                 null|          null|                        null|               null|                  null|              null|             5.981|              null|                null|             null|          null|       null|                  null|   null|              null|                         null|          null|              3.002|                         0.797|   null|              null|         null|                    null|   null|              null|                null|              null|                      null|                   null|            null|                          null|                 null|                              null|                       null|                                     null|                            null|                               null|                           null|                          0.111|                           null|                             null|                    null|                null|                0.11|                null|                  null|                               0.165|                        0.0|                        0.0|                        0.0|                        0.0|     null|                    null|     null|           null|\n",
      "|Afghanistan|1852|     AFG|   3783940|null|      null|                 null|null|          null|           null|             null|                        null|                         null|                        null|                     null|                             null|          null|       null|               null|    null|               null|           null|                      null|                   null|                 null|          null|                        null|               null|                  null|              null|             9.003|              null|                null|             null|          null|       null|                  null|   null|              null|                         null|          null|              3.022|                         0.799|   null|              null|         null|                    null|   null|              null|                null|              null|                      null|                   null|            null|                          null|                 null|                              null|                       null|                                     null|                            null|                               null|                           null|                           0.11|                           null|                             null|                    null|                null|               0.109|                null|                  null|                               0.164|                        0.0|                        0.0|                        0.0|                        0.0|     null|                    null|     null|           null|\n",
      "|Afghanistan|1853|     AFG|   3800954|null|      null|                 null|null|          null|           null|             null|                        null|                         null|                        null|                     null|                             null|          null|       null|               null|    null|               null|           null|                      null|                   null|                 null|          null|                        null|               null|                  null|              null|            12.041|              null|                null|             null|          null|       null|                  null|   null|              null|                         null|          null|              3.038|                         0.799|   null|              null|         null|                    null|   null|              null|                null|              null|                      null|                   null|            null|                          null|                 null|                              null|                       null|                                     null|                            null|                               null|                           null|                           0.11|                           null|                             null|                    null|                null|               0.107|                null|                  null|                               0.164|                        0.0|                        0.0|                        0.0|                        0.0|     null|                    null|     null|           null|\n",
      "|Afghanistan|1854|     AFG|   3818038|null|      null|                 null|null|          null|           null|             null|                        null|                         null|                        null|                     null|                             null|          null|       null|               null|    null|               null|           null|                      null|                   null|                 null|          null|                        null|               null|                  null|              null|            15.094|              null|                null|             null|          null|       null|                  null|   null|              null|                         null|          null|              3.053|                           0.8|   null|              null|         null|                    null|   null|              null|                null|              null|                      null|                   null|            null|                          null|                 null|                              null|                       null|                                     null|                            null|                               null|                           null|                          0.109|                           null|                             null|                    null|                null|               0.106|                null|                  null|                               0.163|                        0.0|                        0.0|                        0.0|                        0.0|     null|                    null|     null|           null|\n",
      "+-----------+----+--------+----------+----+----------+---------------------+----+--------------+---------------+-----------------+----------------------------+-----------------------------+----------------------------+-------------------------+---------------------------------+--------------+-----------+-------------------+--------+-------------------+---------------+--------------------------+-----------------------+---------------------+--------------+----------------------------+-------------------+----------------------+------------------+------------------+------------------+--------------------+-----------------+--------------+-----------+----------------------+-------+------------------+-----------------------------+--------------+-------------------+------------------------------+-------+------------------+-------------+------------------------+-------+------------------+--------------------+------------------+--------------------------+-----------------------+----------------+------------------------------+---------------------+----------------------------------+---------------------------+-----------------------------------------+--------------------------------+-----------------------------------+-------------------------------+-------------------------------+-------------------------------+---------------------------------+------------------------+--------------------+--------------------+--------------------+----------------------+------------------------------------+---------------------------+---------------------------+---------------------------+---------------------------+---------+------------------------+---------+---------------+\n",
      "only showing top 5 rows"
     ]
    }
   ],
   "source": [
    "#fisrt few rows of dataframe\n",
    "df_raw_source_2.show(5)"
   ]
  },
  {
   "cell_type": "code",
   "execution_count": 64,
   "metadata": {},
   "outputs": [
    {
     "data": {
      "application/vnd.jupyter.widget-view+json": {
       "model_id": "",
       "version_major": 2,
       "version_minor": 0
      },
      "text/plain": [
       "FloatProgress(value=0.0, bar_style='info', description='Progress:', layout=Layout(height='25px', width='50%'),…"
      ]
     },
     "metadata": {},
     "output_type": "display_data"
    },
    {
     "name": "stdout",
     "output_type": "stream",
     "text": [
      "48058\n",
      "48058"
     ]
    }
   ],
   "source": [
    "print(df_raw_source_2.count())\n",
    "# Eliminar duplicados\n",
    "df_trusted_source_2 = eliminar_duplicados(df_raw_source_2)\n",
    "print(df_trusted_source_2.count())"
   ]
  },
  {
   "cell_type": "code",
   "execution_count": 65,
   "metadata": {},
   "outputs": [
    {
     "data": {
      "application/vnd.jupyter.widget-view+json": {
       "model_id": "",
       "version_major": 2,
       "version_minor": 0
      },
      "text/plain": [
       "FloatProgress(value=0.0, bar_style='info', description='Progress:', layout=Layout(height='25px', width='50%'),…"
      ]
     },
     "metadata": {},
     "output_type": "display_data"
    },
    {
     "name": "stdout",
     "output_type": "stream",
     "text": [
      "+-------+----+----------+-----+--------------+---------------+--------------+---------------------------+\n",
      "|country|year|population|  co2|co2_growth_abs|co2_growth_prct|co2_per_capita|temperature_change_from_co2|\n",
      "+-------+----+----------+-----+--------------+---------------+--------------+---------------------------+\n",
      "|      0|   0|      8563|17750|         19901|          22922|         21458|                       6334|\n",
      "+-------+----+----------+-----+--------------+---------------+--------------+---------------------------+"
     ]
    }
   ],
   "source": [
    "#identificar nulos\n",
    "identificar_nulos(df_trusted_source_2.select('country','year','population','co2','co2_growth_abs','co2_growth_prct','co2_per_capita','temperature_change_from_co2'))"
   ]
  },
  {
   "cell_type": "code",
   "execution_count": 66,
   "metadata": {},
   "outputs": [
    {
     "data": {
      "application/vnd.jupyter.widget-view+json": {
       "model_id": "",
       "version_major": 2,
       "version_minor": 0
      },
      "text/plain": [
       "FloatProgress(value=0.0, bar_style='info', description='Progress:', layout=Layout(height='25px', width='50%'),…"
      ]
     },
     "metadata": {},
     "output_type": "display_data"
    }
   ],
   "source": [
    "from pyspark.sql.functions import when\n",
    "from pyspark.sql.types import StringType,DoubleType,IntegerType, LongType\n",
    "\n",
    "# Reemplazar valores nulos en columnas\n",
    "def remplazar_nulos_por_tipo(df):\n",
    "    for column in df.columns:\n",
    "        if df.schema[column].dataType is StringType():\n",
    "            df = df.withColumn(column, when(df[column].isNull(), \"NA\").otherwise(df[column]))\n",
    "        elif df.schema[column].dataType is LongType():\n",
    "            df = df.withColumn(column, when(df[column].isNull(), 0).otherwise(df[column]))\n",
    "        elif df.schema[column].dataType is IntegerType():\n",
    "            df = df.withColumn(column, when(df[column].isNull(), 0).otherwise(df[column]))\n",
    "        elif df.schema[column].dataType is DoubleType():\n",
    "            df = df.withColumn(column, when(df[column].isNull(), 0.0).otherwise(df[column]))\n",
    "    return df"
   ]
  },
  {
   "cell_type": "code",
   "execution_count": 67,
   "metadata": {},
   "outputs": [
    {
     "data": {
      "application/vnd.jupyter.widget-view+json": {
       "model_id": "",
       "version_major": 2,
       "version_minor": 0
      },
      "text/plain": [
       "FloatProgress(value=0.0, bar_style='info', description='Progress:', layout=Layout(height='25px', width='50%'),…"
      ]
     },
     "metadata": {},
     "output_type": "display_data"
    },
    {
     "name": "stdout",
     "output_type": "stream",
     "text": [
      "+-------+----+----------+---+--------------+---------------+--------------+---------------------------+\n",
      "|country|year|population|co2|co2_growth_abs|co2_growth_prct|co2_per_capita|temperature_change_from_co2|\n",
      "+-------+----+----------+---+--------------+---------------+--------------+---------------------------+\n",
      "|      0|   0|         0|  0|             0|              0|             0|                          0|\n",
      "+-------+----+----------+---+--------------+---------------+--------------+---------------------------+"
     ]
    }
   ],
   "source": [
    "# eliminar rellenar nulos\n",
    "df_trusted_source_2 = remplazar_nulos_por_tipo(df_trusted_source_2)\n",
    "#identificar nulos\n",
    "#identificar nulos\n",
    "identificar_nulos(df_trusted_source_2.select('country','year','population','co2','co2_growth_abs','co2_growth_prct','co2_per_capita','temperature_change_from_co2'))"
   ]
  },
  {
   "cell_type": "code",
   "execution_count": 68,
   "metadata": {},
   "outputs": [
    {
     "data": {
      "application/vnd.jupyter.widget-view+json": {
       "model_id": "",
       "version_major": 2,
       "version_minor": 0
      },
      "text/plain": [
       "FloatProgress(value=0.0, bar_style='info', description='Progress:', layout=Layout(height='25px', width='50%'),…"
      ]
     },
     "metadata": {},
     "output_type": "display_data"
    },
    {
     "name": "stdout",
     "output_type": "stream",
     "text": [
      "+-------+----+--------+----------+---------------+----------+---------------------+-------+--------------+---------------+-----------------+----------------------------+-----------------------------+----------------------------+-------------------------+---------------------------------+--------------+-----------+-------------------+--------+-------------------+---------------+--------------------------+-----------------------+---------------------+--------------+----------------------------+-------------------+----------------------+------------------+------------------+------------------+--------------------+-----------------+--------------+-----------+----------------------+-------+------------------+-----------------------------+--------------+-------------------+------------------------------+-------+------------------+-------------+------------------------+-------+------------------+--------------------+------------------+--------------------------+-----------------------+----------------+------------------------------+---------------------+----------------------------------+---------------------------+-----------------------------------------+--------------------------------+-----------------------------------+-------------------------------+-------------------------------+-------------------------------+---------------------------------+------------------------+--------------------+--------------------+--------------------+----------------------+------------------------------------+---------------------------+---------------------------+---------------------------+---------------------------+---------+------------------------+---------+---------------+\n",
      "|country|year|iso_code|population|            gdp|cement_co2|cement_co2_per_capita|    co2|co2_growth_abs|co2_growth_prct|co2_including_luc|co2_including_luc_growth_abs|co2_including_luc_growth_prct|co2_including_luc_per_capita|co2_including_luc_per_gdp|co2_including_luc_per_unit_energy|co2_per_capita|co2_per_gdp|co2_per_unit_energy|coal_co2|coal_co2_per_capita|consumption_co2|consumption_co2_per_capita|consumption_co2_per_gdp|cumulative_cement_co2|cumulative_co2|cumulative_co2_including_luc|cumulative_coal_co2|cumulative_flaring_co2|cumulative_gas_co2|cumulative_luc_co2|cumulative_oil_co2|cumulative_other_co2|energy_per_capita|energy_per_gdp|flaring_co2|flaring_co2_per_capita|gas_co2|gas_co2_per_capita|ghg_excluding_lucf_per_capita|ghg_per_capita|land_use_change_co2|land_use_change_co2_per_capita|methane|methane_per_capita|nitrous_oxide|nitrous_oxide_per_capita|oil_co2|oil_co2_per_capita|other_co2_per_capita|other_industry_co2|primary_energy_consumption|share_global_cement_co2|share_global_co2|share_global_co2_including_luc|share_global_coal_co2|share_global_cumulative_cement_co2|share_global_cumulative_co2|share_global_cumulative_co2_including_luc|share_global_cumulative_coal_co2|share_global_cumulative_flaring_co2|share_global_cumulative_gas_co2|share_global_cumulative_luc_co2|share_global_cumulative_oil_co2|share_global_cumulative_other_co2|share_global_flaring_co2|share_global_gas_co2|share_global_luc_co2|share_global_oil_co2|share_global_other_co2|share_of_temperature_change_from_ghg|temperature_change_from_ch4|temperature_change_from_co2|temperature_change_from_ghg|temperature_change_from_n2o|total_ghg|total_ghg_excluding_lucf|trade_co2|trade_co2_share|\n",
      "+-------+----+--------+----------+---------------+----------+---------------------+-------+--------------+---------------+-----------------+----------------------------+-----------------------------+----------------------------+-------------------------+---------------------------------+--------------+-----------+-------------------+--------+-------------------+---------------+--------------------------+-----------------------+---------------------+--------------+----------------------------+-------------------+----------------------+------------------+------------------+------------------+--------------------+-----------------+--------------+-----------+----------------------+-------+------------------+-----------------------------+--------------+-------------------+------------------------------+-------+------------------+-------------+------------------------+-------+------------------+--------------------+------------------+--------------------------+-----------------------+----------------+------------------------------+---------------------+----------------------------------+---------------------------+-----------------------------------------+--------------------------------+-----------------------------------+-------------------------------+-------------------------------+-------------------------------+---------------------------------+------------------------+--------------------+--------------------+--------------------+----------------------+------------------------------------+---------------------------+---------------------------+---------------------------+---------------------------+---------+------------------------+---------+---------------+\n",
      "|Algeria|2012|     DZA|  37260568|4.9792335872E11|     7.697|                0.207|135.674|         10.58|          8.457|          138.188|                      10.369|                        8.112|                       3.709|                    0.278|                            0.272|         3.641|      0.272|              0.267|   1.037|              0.028|            0.0|                       0.0|                    0.0|              153.945|      3424.801|                    4321.069|            110.353|               587.737|          1414.033|          1194.411|          1158.733|                 0.0|        13624.909|          1.02|     14.287|                 0.383| 64.114|             1.721|                        6.303|         6.291|              2.514|                         0.067|   85.2|             2.287|        10.43|                    0.28| 48.539|             1.303|                 0.0|               0.0|                   507.672|                  0.556|           0.388|                         0.343|                0.007|                             0.494|                      0.242|                                      0.2|                           0.016|                              3.813|                          0.747|                          0.158|                          0.233|                              0.0|                   3.786|               0.986|               0.047|               0.422|                   0.0|                               0.405|                      0.004|                      0.002|                      0.006|                        0.0|   234.41|                  234.85|      0.0|            0.0|\n",
      "+-------+----+--------+----------+---------------+----------+---------------------+-------+--------------+---------------+-----------------+----------------------------+-----------------------------+----------------------------+-------------------------+---------------------------------+--------------+-----------+-------------------+--------+-------------------+---------------+--------------------------+-----------------------+---------------------+--------------+----------------------------+-------------------+----------------------+------------------+------------------+------------------+--------------------+-----------------+--------------+-----------+----------------------+-------+------------------+-----------------------------+--------------+-------------------+------------------------------+-------+------------------+-------------+------------------------+-------+------------------+--------------------+------------------+--------------------------+-----------------------+----------------+------------------------------+---------------------+----------------------------------+---------------------------+-----------------------------------------+--------------------------------+-----------------------------------+-------------------------------+-------------------------------+-------------------------------+---------------------------------+------------------------+--------------------+--------------------+--------------------+----------------------+------------------------------------+---------------------------+---------------------------+---------------------------+---------------------------+---------+------------------------+---------+---------------+\n",
      "only showing top 1 row"
     ]
    }
   ],
   "source": [
    "df_trusted_source_2.show(1)"
   ]
  },
  {
   "cell_type": "code",
   "execution_count": 69,
   "metadata": {},
   "outputs": [
    {
     "data": {
      "application/vnd.jupyter.widget-view+json": {
       "model_id": "",
       "version_major": 2,
       "version_minor": 0
      },
      "text/plain": [
       "FloatProgress(value=0.0, bar_style='info', description='Progress:', layout=Layout(height='25px', width='50%'),…"
      ]
     },
     "metadata": {},
     "output_type": "display_data"
    }
   ],
   "source": [
    "#guardar dataset limpio\n",
    "path_trusted_source_2='s3://trabajo1datalake/trusted/ourworldindata_org/owid-co2-data'\n",
    "#save the data into parquet format\n",
    "df_trusted_source_2.write.mode('overwrite').format('parquet').save(path_trusted_source_2)"
   ]
  },
  {
   "cell_type": "code",
   "execution_count": null,
   "metadata": {},
   "outputs": [],
   "source": []
  }
 ],
 "metadata": {
  "colab": {
   "provenance": []
  },
  "kernelspec": {
   "display_name": "PySpark",
   "language": "python",
   "name": "pysparkkernel"
  },
  "language_info": {
   "codemirror_mode": {
    "name": "python",
    "version": 3
   },
   "file_extension": ".py",
   "mimetype": "text/x-python",
   "name": "pyspark",
   "pygments_lexer": "python3"
  },
  "vscode": {
   "interpreter": {
    "hash": "aee8b7b246df8f9039afb4144a1f6fd8d2ca17a180786b69acc140d282b71a49"
   }
  }
 },
 "nbformat": 4,
 "nbformat_minor": 1
}
