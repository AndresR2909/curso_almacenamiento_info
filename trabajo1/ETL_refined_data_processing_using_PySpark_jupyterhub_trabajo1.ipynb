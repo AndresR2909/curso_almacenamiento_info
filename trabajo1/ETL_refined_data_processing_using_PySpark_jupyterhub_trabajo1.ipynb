{
 "cells": [
  {
   "cell_type": "markdown",
   "metadata": {
    "id": "9mIXj7uB7X-W"
   },
   "source": [
    "# Data Processing and EDA using Pyspark"
   ]
  },
  {
   "cell_type": "markdown",
   "metadata": {},
   "source": [
    "## Data from trusted to Refine"
   ]
  },
  {
   "cell_type": "markdown",
   "metadata": {},
   "source": [
    "## load data from trusted"
   ]
  },
  {
   "cell_type": "code",
   "execution_count": 1,
   "metadata": {},
   "outputs": [
    {
     "name": "stdout",
     "output_type": "stream",
     "text": [
      "Starting Spark application\n"
     ]
    },
    {
     "data": {
      "text/html": [
       "<table>\n",
       "<tr><th>ID</th><th>YARN Application ID</th><th>Kind</th><th>State</th><th>Spark UI</th><th>Driver log</th><th>User</th><th>Current session?</th></tr><tr><td>0</td><td>application_1709866115604_0001</td><td>pyspark</td><td>idle</td><td><a target=\"_blank\" href=\"http://ip-172-31-71-51.ec2.internal:20888/proxy/application_1709866115604_0001/\">Link</a></td><td><a target=\"_blank\" href=\"http://ip-172-31-79-119.ec2.internal:8042/node/containerlogs/container_1709866115604_0001_01_000001/livy\">Link</a></td><td>None</td><td>✔</td></tr></table>"
      ],
      "text/plain": [
       "<IPython.core.display.HTML object>"
      ]
     },
     "metadata": {},
     "output_type": "display_data"
    },
    {
     "data": {
      "application/vnd.jupyter.widget-view+json": {
       "model_id": "",
       "version_major": 2,
       "version_minor": 0
      },
      "text/plain": [
       "FloatProgress(value=0.0, bar_style='info', description='Progress:', layout=Layout(height='25px', width='50%'),…"
      ]
     },
     "metadata": {},
     "output_type": "display_data"
    },
    {
     "name": "stdout",
     "output_type": "stream",
     "text": [
      "SparkSession available as 'spark'.\n"
     ]
    },
    {
     "data": {
      "application/vnd.jupyter.widget-view+json": {
       "model_id": "",
       "version_major": 2,
       "version_minor": 0
      },
      "text/plain": [
       "FloatProgress(value=0.0, bar_style='info', description='Progress:', layout=Layout(height='25px', width='50%'),…"
      ]
     },
     "metadata": {},
     "output_type": "display_data"
    }
   ],
   "source": [
    "#%pip install pyarrow"
   ]
  },
  {
   "cell_type": "code",
   "execution_count": 2,
   "metadata": {},
   "outputs": [
    {
     "data": {
      "application/vnd.jupyter.widget-view+json": {
       "model_id": "",
       "version_major": 2,
       "version_minor": 0
      },
      "text/plain": [
       "FloatProgress(value=0.0, bar_style='info', description='Progress:', layout=Layout(height='25px', width='50%'),…"
      ]
     },
     "metadata": {},
     "output_type": "display_data"
    }
   ],
   "source": [
    "path_trusted_source_1='s3://trabajo1datalake/trusted/climatedata_imf_org/level_sea'\n",
    "# Load raw data\n",
    "df_trusted_source_1=spark.read.parquet(path_trusted_source_1,\n",
    "                  inferSchema=True,\n",
    "                  header=True)"
   ]
  },
  {
   "cell_type": "code",
   "execution_count": 3,
   "metadata": {},
   "outputs": [
    {
     "data": {
      "application/vnd.jupyter.widget-view+json": {
       "model_id": "",
       "version_major": 2,
       "version_minor": 0
      },
      "text/plain": [
       "FloatProgress(value=0.0, bar_style='info', description='Progress:', layout=Layout(height='25px', width='50%'),…"
      ]
     },
     "metadata": {},
     "output_type": "display_data"
    }
   ],
   "source": [
    "path_trusted_source_1_1='s3://trabajo1datalake/trusted/climatedata_imf_org/dioxido_carbono'\n",
    "    # Load raw data\n",
    "df_trusted_source_1_1=spark.read.parquet(path_trusted_source_1_1,\n",
    "                  inferSchema=True,\n",
    "                  header=True)"
   ]
  },
  {
   "cell_type": "code",
   "execution_count": 4,
   "metadata": {},
   "outputs": [
    {
     "data": {
      "application/vnd.jupyter.widget-view+json": {
       "model_id": "",
       "version_major": 2,
       "version_minor": 0
      },
      "text/plain": [
       "FloatProgress(value=0.0, bar_style='info', description='Progress:', layout=Layout(height='25px', width='50%'),…"
      ]
     },
     "metadata": {},
     "output_type": "display_data"
    }
   ],
   "source": [
    "path_trusted_source_2='s3://trabajo1datalake/trusted/ourworldindata_org/owid-co2-data'\n",
    "# Load raw data\n",
    "df_trusted_source_2=spark.read.parquet(path_trusted_source_2,\n",
    "                  inferSchema=True,\n",
    "                  header=True)"
   ]
  },
  {
   "cell_type": "code",
   "execution_count": 5,
   "metadata": {},
   "outputs": [
    {
     "data": {
      "application/vnd.jupyter.widget-view+json": {
       "model_id": "",
       "version_major": 2,
       "version_minor": 0
      },
      "text/plain": [
       "FloatProgress(value=0.0, bar_style='info', description='Progress:', layout=Layout(height='25px', width='50%'),…"
      ]
     },
     "metadata": {},
     "output_type": "display_data"
    },
    {
     "name": "stdout",
     "output_type": "stream",
     "text": [
      "root\n",
      " |-- ObjectId: string (nullable = true)\n",
      " |-- Country: string (nullable = true)\n",
      " |-- ISO2: string (nullable = true)\n",
      " |-- ISO3: string (nullable = true)\n",
      " |-- Indicator: string (nullable = true)\n",
      " |-- Unit: string (nullable = true)\n",
      " |-- Source: string (nullable = true)\n",
      " |-- CTS_Code: string (nullable = true)\n",
      " |-- CTS_Name: string (nullable = true)\n",
      " |-- CTS_Full_Descriptor: string (nullable = true)\n",
      " |-- Measure: string (nullable = true)\n",
      " |-- Date: date (nullable = true)\n",
      " |-- Value: double (nullable = true)"
     ]
    }
   ],
   "source": [
    "#printSchema\n",
    "df_trusted_source_1.printSchema()"
   ]
  },
  {
   "cell_type": "code",
   "execution_count": 6,
   "metadata": {
    "colab": {
     "base_uri": "https://localhost:8080/"
    },
    "id": "lHNhsh_o7X-e",
    "outputId": "379ba6d0-6ea5-4bcd-faca-9bc37c2dff93"
   },
   "outputs": [
    {
     "data": {
      "application/vnd.jupyter.widget-view+json": {
       "model_id": "",
       "version_major": 2,
       "version_minor": 0
      },
      "text/plain": [
       "FloatProgress(value=0.0, bar_style='info', description='Progress:', layout=Layout(height='25px', width='50%'),…"
      ]
     },
     "metadata": {},
     "output_type": "display_data"
    },
    {
     "name": "stdout",
     "output_type": "stream",
     "text": [
      "+-------+--------------------+-----------+----------+------+\n",
      "|Country|           Indicator|       Unit|      Date| Value|\n",
      "+-------+--------------------+-----------+----------+------+\n",
      "|  World|Change_in_mean_se...|Millimeters|1994-06-05|-12.63|\n",
      "|  World|Change_in_mean_se...|Millimeters|1994-09-02| -2.63|\n",
      "|  World|Change_in_mean_se...|Millimeters|1994-10-22|  7.49|\n",
      "|  World|Change_in_mean_se...|Millimeters|1994-12-20|-18.55|\n",
      "|  World|Change_in_mean_se...|Millimeters|1998-04-13| -78.0|\n",
      "+-------+--------------------+-----------+----------+------+\n",
      "only showing top 5 rows"
     ]
    }
   ],
   "source": [
    "#select columns\n",
    "df_refine_source_1 = df_trusted_source_1.select('Country','Indicator','Unit','Date','Value')\n",
    "df_refine_source_1.show(5)"
   ]
  },
  {
   "cell_type": "code",
   "execution_count": 7,
   "metadata": {},
   "outputs": [
    {
     "data": {
      "application/vnd.jupyter.widget-view+json": {
       "model_id": "",
       "version_major": 2,
       "version_minor": 0
      },
      "text/plain": [
       "FloatProgress(value=0.0, bar_style='info', description='Progress:', layout=Layout(height='25px', width='50%'),…"
      ]
     },
     "metadata": {},
     "output_type": "display_data"
    },
    {
     "name": "stderr",
     "output_type": "stream",
     "text": [
      "An error was encountered:\n",
      "name 'df_refine_source_1_1' is not defined\n",
      "Traceback (most recent call last):\n",
      "NameError: name 'df_refine_source_1_1' is not defined\n",
      "\n"
     ]
    }
   ],
   "source": [
    "df_refine_source_1_1.select('Unit').distinct().collect()"
   ]
  },
  {
   "cell_type": "code",
   "execution_count": 8,
   "metadata": {},
   "outputs": [
    {
     "data": {
      "application/vnd.jupyter.widget-view+json": {
       "model_id": "",
       "version_major": 2,
       "version_minor": 0
      },
      "text/plain": [
       "FloatProgress(value=0.0, bar_style='info', description='Progress:', layout=Layout(height='25px', width='50%'),…"
      ]
     },
     "metadata": {},
     "output_type": "display_data"
    },
    {
     "name": "stdout",
     "output_type": "stream",
     "text": [
      "[Row(Indicator='Change_in_mean_sea_level_Sea_level_Trend'), Row(Indicator='Change_in_mean_sea_level_Sea_level_TOPEXPoseidon'), Row(Indicator='Change_in_mean_sea_level_Sea_level_Jason1'), Row(Indicator='Change_in_mean_sea_level_Sea_level_Jason2'), Row(Indicator='Change_in_mean_sea_level_Sea_level_Jason3')]"
     ]
    }
   ],
   "source": [
    "df_refine_source_1.select('Indicator').distinct().collect()"
   ]
  },
  {
   "cell_type": "code",
   "execution_count": 9,
   "metadata": {},
   "outputs": [
    {
     "data": {
      "application/vnd.jupyter.widget-view+json": {
       "model_id": "",
       "version_major": 2,
       "version_minor": 0
      },
      "text/plain": [
       "FloatProgress(value=0.0, bar_style='info', description='Progress:', layout=Layout(height='25px', width='50%'),…"
      ]
     },
     "metadata": {},
     "output_type": "display_data"
    }
   ],
   "source": [
    "from pyspark.sql.functions import year, month\n",
    "# Extraer el año y el mes de la columna 'Date'\n",
    "df_refine_source_1 = df_refine_source_1.withColumn(\"Year\", year(\"Date\")).withColumn(\"Month\", month(\"Date\"))"
   ]
  },
  {
   "cell_type": "code",
   "execution_count": 10,
   "metadata": {},
   "outputs": [
    {
     "data": {
      "application/vnd.jupyter.widget-view+json": {
       "model_id": "",
       "version_major": 2,
       "version_minor": 0
      },
      "text/plain": [
       "FloatProgress(value=0.0, bar_style='info', description='Progress:', layout=Layout(height='25px', width='50%'),…"
      ]
     },
     "metadata": {},
     "output_type": "display_data"
    },
    {
     "name": "stdout",
     "output_type": "stream",
     "text": [
      "+----+-----+-----------------------------------------+-----------------------------------------+-----------------------------------------+------------------------------------------------+----------------------------------------+\n",
      "|Year|Month|Change_in_mean_sea_level_Sea_level_Jason1|Change_in_mean_sea_level_Sea_level_Jason2|Change_in_mean_sea_level_Sea_level_Jason3|Change_in_mean_sea_level_Sea_level_TOPEXPoseidon|Change_in_mean_sea_level_Sea_level_Trend|\n",
      "+----+-----+-----------------------------------------+-----------------------------------------+-----------------------------------------+------------------------------------------------+----------------------------------------+\n",
      "|1992|   12|                                     null|                                     null|                                     null|                               4.265600000000001|                                    null|\n",
      "|1993|    1|                                     null|                                     null|                                     null|                             -14.385066666666665|                                    null|\n",
      "|1993|    2|                                     null|                                     null|                                     null|                              -31.30773333333333|                                    null|\n",
      "|1993|    3|                                     null|                                     null|                                     null|                              -39.21573333333334|                                    null|\n",
      "|1993|    4|                                     null|                                     null|                                     null|                                        -49.5204|                                    null|\n",
      "|1993|    5|                                     null|                                     null|                                     null|                              -40.34239999999999|                                    null|\n",
      "|1993|    6|                                     null|                                     null|                                     null|                              -32.12207792207792|                                    null|\n",
      "|1993|    7|                                     null|                                     null|                                     null|                             -17.752083333333328|                                    null|\n",
      "|1993|    8|                                     null|                                     null|                                     null|                              -9.405312499999999|                                    null|\n",
      "|1993|    9|                                     null|                                     null|                                     null|                              -8.646623376623378|                                    null|\n",
      "|1993|   10|                                     null|                                     null|                                     null|                               5.201153846153845|                                    null|\n",
      "|1993|   11|                                     null|                                     null|                                     null|                             -3.8663999999999987|                                    null|\n",
      "|1993|   12|                                     null|                                     null|                                     null|                             -10.645066666666665|                                    null|\n",
      "|1994|    1|                                     null|                                     null|                                     null|                             -19.913066666666666|                                    null|\n",
      "|1994|    2|                                     null|                                     null|                                     null|                             -37.035733333333326|                                    null|\n",
      "|1994|    3|                                     null|                                     null|                                     null|                             -45.752399999999994|                                    null|\n",
      "|1994|    4|                                     null|                                     null|                                     null|                              -35.98506666666667|                                    null|\n",
      "|1994|    5|                                     null|                                     null|                                     null|                              -38.18506666666667|                                    null|\n",
      "|1994|    6|                                     null|                                     null|                                     null|                              -28.21239999999999|                                    null|\n",
      "|1994|    7|                                     null|                                     null|                                     null|                             -24.423733333333335|                                    null|\n",
      "+----+-----+-----------------------------------------+-----------------------------------------+-----------------------------------------+------------------------------------------------+----------------------------------------+\n",
      "only showing top 20 rows"
     ]
    }
   ],
   "source": [
    "# Agrupar por año y mes y calcular la media de 'Value'\n",
    "df_refine_grouped_source_1 = df_refine_source_1.groupBy(\"Year\", \"Month\").pivot(\"Indicator\").avg(\"Value\").orderBy(\"Year\", \"Month\")\n",
    "\n",
    "\n",
    "df_refine_grouped_source_1.show()"
   ]
  },
  {
   "cell_type": "code",
   "execution_count": 11,
   "metadata": {
    "colab": {
     "base_uri": "https://localhost:8080/"
    },
    "id": "wBS2F77N7X-e",
    "outputId": "5bbac3af-6bdf-434e-b432-abe3667bc0c5"
   },
   "outputs": [
    {
     "data": {
      "application/vnd.jupyter.widget-view+json": {
       "model_id": "",
       "version_major": 2,
       "version_minor": 0
      },
      "text/plain": [
       "FloatProgress(value=0.0, bar_style='info', description='Progress:', layout=Layout(height='25px', width='50%'),…"
      ]
     },
     "metadata": {},
     "output_type": "display_data"
    },
    {
     "name": "stdout",
     "output_type": "stream",
     "text": [
      "+-------+------------------+------------------+-----------------------------------------+-----------------------------------------+-----------------------------------------+------------------------------------------------+----------------------------------------+\n",
      "|summary|              Year|             Month|Change_in_mean_sea_level_Sea_level_Jason1|Change_in_mean_sea_level_Sea_level_Jason2|Change_in_mean_sea_level_Sea_level_Jason3|Change_in_mean_sea_level_Sea_level_TOPEXPoseidon|Change_in_mean_sea_level_Sea_level_Trend|\n",
      "+-------+------------------+------------------+-----------------------------------------+-----------------------------------------+-----------------------------------------+------------------------------------------------+----------------------------------------+\n",
      "|  count|               360|               360|                                      137|                                      107|                                       82|                                             155|                                       1|\n",
      "|   mean|2007.4166666666667|               6.5|                       19.145665696193316|                        39.77825836285158|                        66.37590222493128|                             -1.2287689079410606|                                   3.222|\n",
      "| stddev| 8.671905780203566|3.4568570586927625|                       24.265023302134317|                       24.040225348899988|                       25.958769853827555|                              22.774022595620398|                                    null|\n",
      "|    min|              1992|                 1|                      -30.969605263157906|                       -8.968815789473684|                       12.466933333333335|                             -49.885641025641036|                                   3.222|\n",
      "|    max|              2022|                12|                        73.64240000000001|                        87.14293333333333|                       118.14160000000001|                              48.370933333333326|                                   3.222|\n",
      "+-------+------------------+------------------+-----------------------------------------+-----------------------------------------+-----------------------------------------+------------------------------------------------+----------------------------------------+"
     ]
    }
   ],
   "source": [
    "#info about dataframe\n",
    "df_refine_grouped_source_1.describe().show()"
   ]
  },
  {
   "cell_type": "markdown",
   "metadata": {},
   "source": [
    "### lo mismo para la fuente 1.1"
   ]
  },
  {
   "cell_type": "code",
   "execution_count": 12,
   "metadata": {
    "id": "KBOwqHRP7X-f"
   },
   "outputs": [
    {
     "data": {
      "application/vnd.jupyter.widget-view+json": {
       "model_id": "",
       "version_major": 2,
       "version_minor": 0
      },
      "text/plain": [
       "FloatProgress(value=0.0, bar_style='info', description='Progress:', layout=Layout(height='25px', width='50%'),…"
      ]
     },
     "metadata": {},
     "output_type": "display_data"
    },
    {
     "name": "stdout",
     "output_type": "stream",
     "text": [
      "root\n",
      " |-- ObjectId: string (nullable = true)\n",
      " |-- Country: string (nullable = true)\n",
      " |-- ISO2: string (nullable = true)\n",
      " |-- ISO3: string (nullable = true)\n",
      " |-- Indicator: string (nullable = true)\n",
      " |-- Unit: string (nullable = true)\n",
      " |-- Source: string (nullable = true)\n",
      " |-- CTS_Code: string (nullable = true)\n",
      " |-- CTS_Name: string (nullable = true)\n",
      " |-- CTS_Full_Descriptor: string (nullable = true)\n",
      " |-- Date: date (nullable = true)\n",
      " |-- Value: double (nullable = true)"
     ]
    }
   ],
   "source": [
    "#printSchema\n",
    "df_trusted_source_1_1.printSchema()"
   ]
  },
  {
   "cell_type": "code",
   "execution_count": 13,
   "metadata": {},
   "outputs": [
    {
     "data": {
      "application/vnd.jupyter.widget-view+json": {
       "model_id": "",
       "version_major": 2,
       "version_minor": 0
      },
      "text/plain": [
       "FloatProgress(value=0.0, bar_style='info', description='Progress:', layout=Layout(height='25px', width='50%'),…"
      ]
     },
     "metadata": {},
     "output_type": "display_data"
    },
    {
     "name": "stdout",
     "output_type": "stream",
     "text": [
      "+-------+--------------------+-----------------+----------+------+\n",
      "|Country|           Indicator|             Unit|      Date| Value|\n",
      "+-------+--------------------+-----------------+----------+------+\n",
      "|  World|Monthly_Atmospher...|          Percent|1969-10-01|  0.48|\n",
      "|  World|Monthly_Atmospher...|          Percent|1968-10-01|  0.27|\n",
      "|  World|Monthly_Atmospher...|Parts_Per_Million|1992-07-01|357.15|\n",
      "|  World|Monthly_Atmospher...|          Percent|2023-10-01|  0.74|\n",
      "|  World|Monthly_Atmospher...|Parts_Per_Million|1978-08-01|334.42|\n",
      "+-------+--------------------+-----------------+----------+------+\n",
      "only showing top 5 rows"
     ]
    }
   ],
   "source": [
    "#select columns\n",
    "df_refine_source_1_1 = df_trusted_source_1_1.select('Country','Indicator','Unit','Date','Value')\n",
    "df_refine_source_1_1.show(5)"
   ]
  },
  {
   "cell_type": "code",
   "execution_count": 14,
   "metadata": {},
   "outputs": [
    {
     "data": {
      "application/vnd.jupyter.widget-view+json": {
       "model_id": "",
       "version_major": 2,
       "version_minor": 0
      },
      "text/plain": [
       "FloatProgress(value=0.0, bar_style='info', description='Progress:', layout=Layout(height='25px', width='50%'),…"
      ]
     },
     "metadata": {},
     "output_type": "display_data"
    },
    {
     "name": "stdout",
     "output_type": "stream",
     "text": [
      "[Row(Indicator='Monthly_Atmospheric_Carbon_Dioxide_Concentrations_Year_on_Year_Percentage_Change'), Row(Indicator='Monthly_Atmospheric_Carbon_Dioxide_Concentrations')]"
     ]
    }
   ],
   "source": [
    "df_refine_source_1_1.select('Indicator').distinct().collect()"
   ]
  },
  {
   "cell_type": "code",
   "execution_count": 15,
   "metadata": {},
   "outputs": [
    {
     "data": {
      "application/vnd.jupyter.widget-view+json": {
       "model_id": "",
       "version_major": 2,
       "version_minor": 0
      },
      "text/plain": [
       "FloatProgress(value=0.0, bar_style='info', description='Progress:', layout=Layout(height='25px', width='50%'),…"
      ]
     },
     "metadata": {},
     "output_type": "display_data"
    }
   ],
   "source": [
    "from pyspark.sql.functions import year, month\n",
    "# Extraer el año y el mes de la columna 'Date'\n",
    "df_refine_source_1_1 = df_refine_source_1_1.withColumn(\"Year\", year(\"Date\")).withColumn(\"Month\", month(\"Date\"))"
   ]
  },
  {
   "cell_type": "code",
   "execution_count": 16,
   "metadata": {},
   "outputs": [
    {
     "data": {
      "application/vnd.jupyter.widget-view+json": {
       "model_id": "",
       "version_major": 2,
       "version_minor": 0
      },
      "text/plain": [
       "FloatProgress(value=0.0, bar_style='info', description='Progress:', layout=Layout(height='25px', width='50%'),…"
      ]
     },
     "metadata": {},
     "output_type": "display_data"
    },
    {
     "name": "stdout",
     "output_type": "stream",
     "text": [
      "+----+-----+-------------------------------------------------+--------------------------------------------------------------------------------+\n",
      "|Year|Month|Monthly_Atmospheric_Carbon_Dioxide_Concentrations|Monthly_Atmospheric_Carbon_Dioxide_Concentrations_Year_on_Year_Percentage_Change|\n",
      "+----+-----+-------------------------------------------------+--------------------------------------------------------------------------------+\n",
      "|1958|    3|                                            315.7|                                                                            null|\n",
      "|1958|    4|                                           317.45|                                                                            null|\n",
      "|1958|    5|                                           317.51|                                                                            null|\n",
      "|1958|    6|                                           317.24|                                                                            null|\n",
      "|1958|    7|                                           315.86|                                                                            null|\n",
      "|1958|    8|                                           314.93|                                                                            null|\n",
      "|1958|    9|                                            313.2|                                                                            null|\n",
      "|1958|   10|                                           312.43|                                                                            null|\n",
      "|1958|   11|                                           313.33|                                                                            null|\n",
      "|1958|   12|                                           314.67|                                                                            null|\n",
      "|1959|    1|                                           315.58|                                                                            null|\n",
      "|1959|    2|                                           316.48|                                                                            null|\n",
      "|1959|    3|                                           316.65|                                                                             0.3|\n",
      "|1959|    4|                                           317.72|                                                                            0.09|\n",
      "|1959|    5|                                           318.29|                                                                            0.25|\n",
      "|1959|    6|                                           318.15|                                                                            0.29|\n",
      "|1959|    7|                                           316.54|                                                                            0.22|\n",
      "|1959|    8|                                            314.8|                                                                           -0.04|\n",
      "|1959|    9|                                           313.84|                                                                             0.2|\n",
      "|1959|   10|                                           313.33|                                                                            0.29|\n",
      "+----+-----+-------------------------------------------------+--------------------------------------------------------------------------------+\n",
      "only showing top 20 rows"
     ]
    }
   ],
   "source": [
    "# Agrupar por año y mes y calcular la media de 'Value'\n",
    "df_refine_grouped_source_1_1 = df_refine_source_1_1.groupBy(\"Year\", \"Month\").pivot(\"Indicator\").avg(\"Value\").orderBy(\"Year\", \"Month\")\n",
    "\n",
    "\n",
    "df_refine_grouped_source_1_1.show()"
   ]
  },
  {
   "cell_type": "code",
   "execution_count": 17,
   "metadata": {},
   "outputs": [
    {
     "data": {
      "application/vnd.jupyter.widget-view+json": {
       "model_id": "",
       "version_major": 2,
       "version_minor": 0
      },
      "text/plain": [
       "FloatProgress(value=0.0, bar_style='info', description='Progress:', layout=Layout(height='25px', width='50%'),…"
      ]
     },
     "metadata": {},
     "output_type": "display_data"
    },
    {
     "name": "stdout",
     "output_type": "stream",
     "text": [
      "+-------+------------------+-----------------+-------------------------------------------------+--------------------------------------------------------------------------------+\n",
      "|summary|              Year|            Month|Monthly_Atmospheric_Carbon_Dioxide_Concentrations|Monthly_Atmospheric_Carbon_Dioxide_Concentrations_Year_on_Year_Percentage_Change|\n",
      "+-------+------------------+-----------------+-------------------------------------------------+--------------------------------------------------------------------------------+\n",
      "|  count|               791|              791|                                              791|                                                                             779|\n",
      "|   mean|1990.6245259165614|6.505689001264223|                                358.2500505688998|                                                             0.44745827984595515|\n",
      "| stddev|19.041177371494015|3.452704755107532|                                33.81632708794604|                                                             0.20009177648155937|\n",
      "|    min|              1958|                1|                                             0.68|                                                                            -0.1|\n",
      "|    max|              2024|               12|                                            424.0|                                                                            1.06|\n",
      "+-------+------------------+-----------------+-------------------------------------------------+--------------------------------------------------------------------------------+"
     ]
    }
   ],
   "source": [
    "#info about dataframe\n",
    "df_refine_grouped_source_1_1.describe().show()"
   ]
  },
  {
   "cell_type": "markdown",
   "metadata": {},
   "source": [
    "### hacer join de las dos tablas por año mes"
   ]
  },
  {
   "cell_type": "code",
   "execution_count": 18,
   "metadata": {},
   "outputs": [
    {
     "data": {
      "application/vnd.jupyter.widget-view+json": {
       "model_id": "",
       "version_major": 2,
       "version_minor": 0
      },
      "text/plain": [
       "FloatProgress(value=0.0, bar_style='info', description='Progress:', layout=Layout(height='25px', width='50%'),…"
      ]
     },
     "metadata": {},
     "output_type": "display_data"
    },
    {
     "name": "stdout",
     "output_type": "stream",
     "text": [
      "+----+-----+-------------------------------------------------+--------------------------------------------------------------------------------+-----------------------------------------+-----------------------------------------+-----------------------------------------+------------------------------------------------+----------------------------------------+\n",
      "|Year|Month|Monthly_Atmospheric_Carbon_Dioxide_Concentrations|Monthly_Atmospheric_Carbon_Dioxide_Concentrations_Year_on_Year_Percentage_Change|Change_in_mean_sea_level_Sea_level_Jason1|Change_in_mean_sea_level_Sea_level_Jason2|Change_in_mean_sea_level_Sea_level_Jason3|Change_in_mean_sea_level_Sea_level_TOPEXPoseidon|Change_in_mean_sea_level_Sea_level_Trend|\n",
      "+----+-----+-------------------------------------------------+--------------------------------------------------------------------------------+-----------------------------------------+-----------------------------------------+-----------------------------------------+------------------------------------------------+----------------------------------------+\n",
      "|1997|   11|                                           362.65|                                                                            0.45|                                     null|                                     null|                                     null|                               8.276266666666666|                                    null|\n",
      "|2022|   10|                                           415.74|                                                                            0.44|                                     null|                                     null|                       117.76078947368421|                                            null|                                    null|\n",
      "|2005|    5|                                           382.64|                                                                            0.48|                      -12.792266666666665|                                     null|                                     null|                             -14.759733333333333|                                    null|\n",
      "|1995|   12|                                           360.82|                                                                            0.48|                                     null|                                     null|                                     null|                              16.050714285714285|                                    null|\n",
      "|1998|    7|                                           367.98|                                                                            0.97|                                     null|                                     null|                                     null|                               9.914459459459461|                                    null|\n",
      "+----+-----+-------------------------------------------------+--------------------------------------------------------------------------------+-----------------------------------------+-----------------------------------------+-----------------------------------------+------------------------------------------------+----------------------------------------+\n",
      "only showing top 5 rows"
     ]
    }
   ],
   "source": [
    "joined_df = df_refine_grouped_source_1_1.join(df_refine_grouped_source_1, ['Year', 'Month'], 'inner')\n",
    "\n",
    "joined_df.show(5)"
   ]
  },
  {
   "cell_type": "code",
   "execution_count": 19,
   "metadata": {},
   "outputs": [
    {
     "data": {
      "application/vnd.jupyter.widget-view+json": {
       "model_id": "",
       "version_major": 2,
       "version_minor": 0
      },
      "text/plain": [
       "FloatProgress(value=0.0, bar_style='info', description='Progress:', layout=Layout(height='25px', width='50%'),…"
      ]
     },
     "metadata": {},
     "output_type": "display_data"
    },
    {
     "name": "stdout",
     "output_type": "stream",
     "text": [
      "root\n",
      " |-- Year: integer (nullable = true)\n",
      " |-- Month: integer (nullable = true)\n",
      " |-- Monthly_Atmospheric_Carbon_Dioxide_Concentrations: double (nullable = true)\n",
      " |-- Monthly_Atmospheric_Carbon_Dioxide_Concentrations_Year_on_Year_Percentage_Change: double (nullable = true)\n",
      " |-- Change_in_mean_sea_level_Sea_level_Jason1: double (nullable = true)\n",
      " |-- Change_in_mean_sea_level_Sea_level_Jason2: double (nullable = true)\n",
      " |-- Change_in_mean_sea_level_Sea_level_Jason3: double (nullable = true)\n",
      " |-- Change_in_mean_sea_level_Sea_level_TOPEXPoseidon: double (nullable = true)\n",
      " |-- Change_in_mean_sea_level_Sea_level_Trend: double (nullable = true)"
     ]
    }
   ],
   "source": [
    "#printSchema\n",
    "joined_df.printSchema()"
   ]
  },
  {
   "cell_type": "code",
   "execution_count": 20,
   "metadata": {
    "colab": {
     "base_uri": "https://localhost:8080/"
    },
    "id": "uIy9Q6hP7X-f",
    "outputId": "3e5b12e3-4783-4cfe-ae2d-adb78cf51002"
   },
   "outputs": [
    {
     "data": {
      "application/vnd.jupyter.widget-view+json": {
       "model_id": "",
       "version_major": 2,
       "version_minor": 0
      },
      "text/plain": [
       "FloatProgress(value=0.0, bar_style='info', description='Progress:', layout=Layout(height='25px', width='50%'),…"
      ]
     },
     "metadata": {},
     "output_type": "display_data"
    },
    {
     "name": "stdout",
     "output_type": "stream",
     "text": [
      "+----+-----+-------------------------------------------------+-----------------------------------------+\n",
      "|Year|Month|Monthly_Atmospheric_Carbon_Dioxide_Concentrations|Change_in_mean_sea_level_Sea_level_Jason1|\n",
      "+----+-----+-------------------------------------------------+-----------------------------------------+\n",
      "|1997|   11|                                           362.65|                                     null|\n",
      "+----+-----+-------------------------------------------------+-----------------------------------------+\n",
      "only showing top 1 row"
     ]
    }
   ],
   "source": [
    "new_df =joined_df.select('Year','Month','Monthly_Atmospheric_Carbon_Dioxide_Concentrations','Change_in_mean_sea_level_Sea_level_Jason1')\n",
    "new_df.show(1)"
   ]
  },
  {
   "cell_type": "code",
   "execution_count": 21,
   "metadata": {},
   "outputs": [
    {
     "data": {
      "application/vnd.jupyter.widget-view+json": {
       "model_id": "",
       "version_major": 2,
       "version_minor": 0
      },
      "text/plain": [
       "FloatProgress(value=0.0, bar_style='info', description='Progress:', layout=Layout(height='25px', width='50%'),…"
      ]
     },
     "metadata": {},
     "output_type": "display_data"
    },
    {
     "name": "stdout",
     "output_type": "stream",
     "text": [
      "+-------+-------------------------------------------------+\n",
      "|summary|Monthly_Atmospheric_Carbon_Dioxide_Concentrations|\n",
      "+-------+-------------------------------------------------+\n",
      "|  count|                                              360|\n",
      "|   mean|                               385.82861111111083|\n",
      "| stddev|                               18.451715632015866|\n",
      "|    min|                                           354.14|\n",
      "|    max|                                           420.97|\n",
      "+-------+-------------------------------------------------+"
     ]
    }
   ],
   "source": [
    "new_df.describe('Monthly_Atmospheric_Carbon_Dioxide_Concentrations').show()"
   ]
  },
  {
   "cell_type": "code",
   "execution_count": 22,
   "metadata": {
    "colab": {
     "base_uri": "https://localhost:8080/"
    },
    "id": "q87mPxga7X-f",
    "outputId": "06119f7c-4ce9-41cb-f5c2-e6148914f111"
   },
   "outputs": [
    {
     "data": {
      "application/vnd.jupyter.widget-view+json": {
       "model_id": "",
       "version_major": 2,
       "version_minor": 0
      },
      "text/plain": [
       "FloatProgress(value=0.0, bar_style='info', description='Progress:', layout=Layout(height='25px', width='50%'),…"
      ]
     },
     "metadata": {},
     "output_type": "display_data"
    },
    {
     "name": "stdout",
     "output_type": "stream",
     "text": [
      "+----+-----+-------------------------------------------------+-----------------------------------------+\n",
      "|Year|Month|Monthly_Atmospheric_Carbon_Dioxide_Concentrations|Change_in_mean_sea_level_Sea_level_Jason1|\n",
      "+----+-----+-------------------------------------------------+-----------------------------------------+\n",
      "|1995|   12|                                           360.82|                                     null|\n",
      "|2010|   12|                                           389.99|                        42.71204081632651|\n",
      "|1994|   12|                                            359.1|                                     null|\n",
      "|2006|   12|                                           382.02|                        27.77723684210527|\n",
      "|2014|   12|                                           399.08|                                     null|\n",
      "|2013|   12|                                           397.03|                                     null|\n",
      "|2011|   12|                                           392.06|                                  60.1664|\n",
      "|2017|   12|                                            407.0|                                     null|\n",
      "|1997|   12|                                           364.51|                                     null|\n",
      "|2019|   12|                                           411.97|                                     null|\n",
      "|2018|   12|                                           409.27|                                     null|\n",
      "|1992|   12|                                           355.68|                                     null|\n",
      "|1999|   12|                                           368.26|                                     null|\n",
      "|2009|   12|                                           387.63|                        42.82640000000001|\n",
      "|2021|   12|                                           416.67|                                     null|\n",
      "|2000|   12|                                           369.83|                                     null|\n",
      "|2007|   12|                                           384.19|                        36.84556701030928|\n",
      "|1993|   12|                                           357.03|                                     null|\n",
      "|2015|   12|                                           402.06|                                     null|\n",
      "|2012|   12|                                           394.57|                        41.98097826086956|\n",
      "+----+-----+-------------------------------------------------+-----------------------------------------+\n",
      "only showing top 20 rows"
     ]
    }
   ],
   "source": [
    "#filter the records\n",
    "new_df.filter(new_df['Month']==12).show()"
   ]
  },
  {
   "cell_type": "code",
   "execution_count": 23,
   "metadata": {
    "colab": {
     "base_uri": "https://localhost:8080/"
    },
    "id": "ESpyzz0v7X-f",
    "outputId": "1a989c18-6049-4e83-ee8a-059c6a087e4d"
   },
   "outputs": [
    {
     "data": {
      "application/vnd.jupyter.widget-view+json": {
       "model_id": "",
       "version_major": 2,
       "version_minor": 0
      },
      "text/plain": [
       "FloatProgress(value=0.0, bar_style='info', description='Progress:', layout=Layout(height='25px', width='50%'),…"
      ]
     },
     "metadata": {},
     "output_type": "display_data"
    },
    {
     "name": "stdout",
     "output_type": "stream",
     "text": [
      "+----+-----+-------------------------------------------------+-----------------------------------------+\n",
      "|Year|Month|Monthly_Atmospheric_Carbon_Dioxide_Concentrations|Change_in_mean_sea_level_Sea_level_Jason1|\n",
      "+----+-----+-------------------------------------------------+-----------------------------------------+\n",
      "|1995|   12|                                           360.82|                                     null|\n",
      "|2010|   12|                                           389.99|                        42.71204081632651|\n",
      "|2006|   12|                                           382.02|                        27.77723684210527|\n",
      "|2014|   12|                                           399.08|                                     null|\n",
      "|2013|   12|                                           397.03|                                     null|\n",
      "|2011|   12|                                           392.06|                                  60.1664|\n",
      "|2017|   12|                                            407.0|                                     null|\n",
      "|1997|   12|                                           364.51|                                     null|\n",
      "|2019|   12|                                           411.97|                                     null|\n",
      "|2018|   12|                                           409.27|                                     null|\n",
      "|1999|   12|                                           368.26|                                     null|\n",
      "|2009|   12|                                           387.63|                        42.82640000000001|\n",
      "|2021|   12|                                           416.67|                                     null|\n",
      "|2000|   12|                                           369.83|                                     null|\n",
      "|2007|   12|                                           384.19|                        36.84556701030928|\n",
      "|2015|   12|                                           402.06|                                     null|\n",
      "|2012|   12|                                           394.57|                        41.98097826086956|\n",
      "|2002|   12|                                           373.98|                                   9.0704|\n",
      "|2008|   12|                                           385.79|                        48.65573333333333|\n",
      "|2020|   12|                                           414.23|                                     null|\n",
      "+----+-----+-------------------------------------------------+-----------------------------------------+\n",
      "only showing top 20 rows"
     ]
    }
   ],
   "source": [
    "#filter the multiple conditions\n",
    "new_df.filter(new_df['Month']==12).filter(new_df['Monthly_Atmospheric_Carbon_Dioxide_Concentrations'] >360).show()"
   ]
  },
  {
   "cell_type": "code",
   "execution_count": 24,
   "metadata": {
    "colab": {
     "base_uri": "https://localhost:8080/"
    },
    "id": "1_jgFnRy7X-f",
    "outputId": "8cc16aa5-794c-4a15-b13b-f43cc0c8c048"
   },
   "outputs": [
    {
     "data": {
      "application/vnd.jupyter.widget-view+json": {
       "model_id": "",
       "version_major": 2,
       "version_minor": 0
      },
      "text/plain": [
       "FloatProgress(value=0.0, bar_style='info', description='Progress:', layout=Layout(height='25px', width='50%'),…"
      ]
     },
     "metadata": {},
     "output_type": "display_data"
    },
    {
     "name": "stdout",
     "output_type": "stream",
     "text": [
      "+----+-----+-------------------------------------------------+-----------------------------------------+\n",
      "|Year|Month|Monthly_Atmospheric_Carbon_Dioxide_Concentrations|Change_in_mean_sea_level_Sea_level_Jason1|\n",
      "+----+-----+-------------------------------------------------+-----------------------------------------+\n",
      "|2013|    5|                                           400.02|                       32.053066666666666|\n",
      "+----+-----+-------------------------------------------------+-----------------------------------------+"
     ]
    }
   ],
   "source": [
    "#filter the multiple conditions\n",
    "new_df.filter((new_df['Monthly_Atmospheric_Carbon_Dioxide_Concentrations']>400)&(new_df['Change_in_mean_sea_level_Sea_level_Jason1'] >19.1456)).show()"
   ]
  },
  {
   "cell_type": "code",
   "execution_count": 25,
   "metadata": {
    "id": "Gmb0Ekqe7X-h"
   },
   "outputs": [
    {
     "data": {
      "application/vnd.jupyter.widget-view+json": {
       "model_id": "",
       "version_major": 2,
       "version_minor": 0
      },
      "text/plain": [
       "FloatProgress(value=0.0, bar_style='info', description='Progress:', layout=Layout(height='25px', width='50%'),…"
      ]
     },
     "metadata": {},
     "output_type": "display_data"
    }
   ],
   "source": [
    "# UDF\n",
    "from pyspark.sql.functions import udf\n"
   ]
  },
  {
   "cell_type": "code",
   "execution_count": 26,
   "metadata": {
    "id": "ujqs1DdW7X-h"
   },
   "outputs": [
    {
     "data": {
      "application/vnd.jupyter.widget-view+json": {
       "model_id": "",
       "version_major": 2,
       "version_minor": 0
      },
      "text/plain": [
       "FloatProgress(value=0.0, bar_style='info', description='Progress:', layout=Layout(height='25px', width='50%'),…"
      ]
     },
     "metadata": {},
     "output_type": "display_data"
    }
   ],
   "source": [
    "#normal function\n",
    "def co2_range(co2_concentration):\n",
    "    if co2_concentration >= 405:\n",
    "        return 'High'\n",
    "    elif co2_concentration < 405 and co2_concentration >= 380:\n",
    "        return 'Mid'\n",
    "    else:\n",
    "        return 'Low'"
   ]
  },
  {
   "cell_type": "code",
   "execution_count": 27,
   "metadata": {
    "colab": {
     "base_uri": "https://localhost:8080/"
    },
    "id": "V4-ZqseT7X-h",
    "outputId": "db099dfb-5e9a-492e-eb9a-9276bf183079"
   },
   "outputs": [
    {
     "data": {
      "application/vnd.jupyter.widget-view+json": {
       "model_id": "",
       "version_major": 2,
       "version_minor": 0
      },
      "text/plain": [
       "FloatProgress(value=0.0, bar_style='info', description='Progress:', layout=Layout(height='25px', width='50%'),…"
      ]
     },
     "metadata": {},
     "output_type": "display_data"
    },
    {
     "name": "stdout",
     "output_type": "stream",
     "text": [
      "+----+-----+-------------------------------------------------+-----------------------------------------+---------+\n",
      "|Year|Month|Monthly_Atmospheric_Carbon_Dioxide_Concentrations|Change_in_mean_sea_level_Sea_level_Jason1|co2_range|\n",
      "+----+-----+-------------------------------------------------+-----------------------------------------+---------+\n",
      "|1997|11   |362.65                                           |null                                     |Low      |\n",
      "|2022|10   |415.74                                           |null                                     |High     |\n",
      "|2005|5    |382.64                                           |-12.792266666666665                      |Mid      |\n",
      "|1995|12   |360.82                                           |null                                     |Low      |\n",
      "|1998|7    |367.98                                           |null                                     |Low      |\n",
      "|2010|12   |389.99                                           |42.71204081632651                        |Mid      |\n",
      "|2015|2    |400.55                                           |null                                     |Mid      |\n",
      "|1996|11   |361.04                                           |null                                     |Low      |\n",
      "|1998|1    |365.39                                           |null                                     |Low      |\n",
      "|2005|10   |377.19                                           |36.6994                                  |Low      |\n",
      "+----+-----+-------------------------------------------------+-----------------------------------------+---------+\n",
      "only showing top 10 rows"
     ]
    }
   ],
   "source": [
    "from pyspark.sql.types import StringType\n",
    "#create udf using python function\n",
    "brand_udf=udf(co2_range,StringType())\n",
    "#apply udf on dataframe\n",
    "new_df = new_df.withColumn('co2_range',brand_udf(new_df['Monthly_Atmospheric_Carbon_Dioxide_Concentrations']))\n",
    "new_df.show(10,False)"
   ]
  },
  {
   "cell_type": "code",
   "execution_count": 28,
   "metadata": {
    "id": "pJ2QOOUb7X-m"
   },
   "outputs": [
    {
     "data": {
      "application/vnd.jupyter.widget-view+json": {
       "model_id": "",
       "version_major": 2,
       "version_minor": 0
      },
      "text/plain": [
       "FloatProgress(value=0.0, bar_style='info', description='Progress:', layout=Layout(height='25px', width='50%'),…"
      ]
     },
     "metadata": {},
     "output_type": "display_data"
    }
   ],
   "source": [
    "#target directory\n",
    "pathcsv_out='/user/hadoop/df_co2_level_sea'\n",
    "\n",
    "# hacia S3\n",
    "pathcsv_out_s3='s3://trabajo1datalake/refined/df_co2_level_sea'"
   ]
  },
  {
   "cell_type": "code",
   "execution_count": 34,
   "metadata": {
    "id": "BumGStNQ7X-n"
   },
   "outputs": [
    {
     "data": {
      "application/vnd.jupyter.widget-view+json": {
       "model_id": "",
       "version_major": 2,
       "version_minor": 0
      },
      "text/plain": [
       "FloatProgress(value=0.0, bar_style='info', description='Progress:', layout=Layout(height='25px', width='50%'),…"
      ]
     },
     "metadata": {},
     "output_type": "display_data"
    }
   ],
   "source": [
    "#save the dataframe as single csv\n",
    "new_df.coalesce(1).write.mode('overwrite').format(\"csv\").option(\"header\",\"true\").save(pathcsv_out)\n",
    "new_df.coalesce(1).write.mode('overwrite').format(\"csv\").option(\"header\",\"true\").save(pathcsv_out_s3)"
   ]
  },
  {
   "cell_type": "code",
   "execution_count": 35,
   "metadata": {
    "id": "nGdRwb-l7X-n"
   },
   "outputs": [
    {
     "data": {
      "application/vnd.jupyter.widget-view+json": {
       "model_id": "",
       "version_major": 2,
       "version_minor": 0
      },
      "text/plain": [
       "FloatProgress(value=0.0, bar_style='info', description='Progress:', layout=Layout(height='25px', width='50%'),…"
      ]
     },
     "metadata": {},
     "output_type": "display_data"
    }
   ],
   "source": [
    "#target location\n",
    "pathparquet_out='/user/hadoop/co2_and_level_sea'\n",
    "\n",
    "# hacia S3\n",
    "write_uri='s3://trabajo1datalake/refined/co2_and_level_sea'"
   ]
  },
  {
   "cell_type": "code",
   "execution_count": 36,
   "metadata": {
    "id": "nf9scj1W7X-n"
   },
   "outputs": [
    {
     "data": {
      "application/vnd.jupyter.widget-view+json": {
       "model_id": "",
       "version_major": 2,
       "version_minor": 0
      },
      "text/plain": [
       "FloatProgress(value=0.0, bar_style='info', description='Progress:', layout=Layout(height='25px', width='50%'),…"
      ]
     },
     "metadata": {},
     "output_type": "display_data"
    }
   ],
   "source": [
    "#save the data into parquet format\n",
    "joined_df.write.mode('overwrite').format('parquet').save(pathparquet_out)\n",
    "joined_df.write.mode('overwrite').format('parquet').save(write_uri)"
   ]
  },
  {
   "cell_type": "code",
   "execution_count": null,
   "metadata": {},
   "outputs": [],
   "source": []
  }
 ],
 "metadata": {
  "colab": {
   "provenance": []
  },
  "kernelspec": {
   "display_name": "PySpark",
   "language": "python",
   "name": "pysparkkernel"
  },
  "language_info": {
   "codemirror_mode": {
    "name": "python",
    "version": 3
   },
   "file_extension": ".py",
   "mimetype": "text/x-python",
   "name": "pyspark",
   "pygments_lexer": "python3"
  },
  "vscode": {
   "interpreter": {
    "hash": "aee8b7b246df8f9039afb4144a1f6fd8d2ca17a180786b69acc140d282b71a49"
   }
  }
 },
 "nbformat": 4,
 "nbformat_minor": 1
}
